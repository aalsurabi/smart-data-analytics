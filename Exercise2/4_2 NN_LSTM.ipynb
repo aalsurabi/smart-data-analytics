{
 "cells": [
  {
   "cell_type": "markdown",
   "id": "5e393841-4a56-4a6f-b3c1-bc223be16ade",
   "metadata": {},
   "source": [
    "# LSTM  for turbofan dataset\n",
    "The idea is to implement a LSTM model and compare it with a hybrid approach combining both LSTM and CNN since these have performed quite well on the turbofan dataset (https://ieeexplore.ieee.org/abstract/document/9613682?casa_token=FOmYn4OJNFMAAAAA:jbDObYMd4m9AFhQu8QObrMVTunUDhfjkeNHBIlJ_9H1-A6uEap-pJXUaYXTxsV4R7uvh7SOSrA).\n",
    "For the LSTM, we attempted to tune the parameters and for the hybrid approach we adopted the architecture of a selected paper (https://ieeexplore.ieee.org/document/8683763). However, the results were not satisfactory and the RMSE remained quite high."
   ]
  },
  {
   "cell_type": "code",
   "execution_count": null,
   "id": "ad642c71-642c-468d-9ac5-640d9e0b97a6",
   "metadata": {},
   "outputs": [],
   "source": [
    "!pip install ray\n",
    "import torch\n",
    "from torch.utils.data import DataLoader, Dataset\n",
    "import numpy as np\n",
    "import torch.optim as optim\n",
    "import torch.nn as nn\n",
    "import torch.nn.functional as F\n",
    "import time\n",
    "import pandas as pd\n",
    "import numpy as np\n",
    "from sklearn.preprocessing import StandardScaler, MinMaxScaler\n",
    "from sklearn.compose import ColumnTransformer\n",
    "from sklearn.pipeline import Pipeline\n",
    "from numpy.lib.stride_tricks import sliding_window_view\n",
    "from sklearn.model_selection import train_test_split\n",
    "from sklearn.model_selection import GroupShuffleSplit\n",
    "from sklearn.model_selection import GroupKFold\n",
    "import ray\n",
    "from ray import train, tune\n",
    "from ray.train import Checkpoint\n",
    "from ray.tune.schedulers import ASHAScheduler\n",
    "import os\n",
    "import json\n"
   ]
  },
  {
   "cell_type": "markdown",
   "id": "414f2260-0164-4a26-b02f-73f80da5167e",
   "metadata": {},
   "source": [
    "# Load Data"
   ]
  },
  {
   "cell_type": "code",
   "execution_count": 7,
   "id": "3d6f1b98-2219-4767-a0a5-595839156464",
   "metadata": {},
   "outputs": [],
   "source": [
    "FD001_train = pd.read_csv('data/train_FD001.txt', sep='\\s+', header=None)\n",
    "FD001_test = pd.read_csv('data/test_FD001.txt', sep='\\s+', header=None)\n",
    "FD002_train = pd.read_csv('data/train_FD002.txt', sep='\\s+', header=None)\n",
    "FD002_test = pd.read_csv('data/test_FD002.txt', sep='\\s+', header=None)\n",
    "FD003_train = pd.read_csv('data/train_FD003.txt', sep='\\s+', header=None)\n",
    "FD003_test = pd.read_csv('data/test_FD003.txt', sep='\\s+', header=None)\n",
    "FD004_train = pd.read_csv('data/train_FD004.txt', sep='\\s+', header=None)\n",
    "FD004_test = pd.read_csv('data/test_FD004.txt', sep='\\s+', header=None)"
   ]
  },
  {
   "cell_type": "code",
   "execution_count": 8,
   "id": "902d0635-b365-4807-a2fd-0b9720f1d6da",
   "metadata": {},
   "outputs": [],
   "source": [
    "FD001_test_targets = pd.read_csv('data/RUL_FD001.txt',sep='\\s+', header=None, names=[\"RUL\"])\n",
    "FD002_test_targets = pd.read_csv('data/RUL_FD002.txt',sep='\\s+', header=None, names=[\"RUL\"])\n",
    "FD003_test_targets = pd.read_csv('data/RUL_FD003.txt',sep='\\s+', header=None, names=[\"RUL\"])\n",
    "FD004_test_targets = pd.read_csv('data/RUL_FD004.txt',sep='\\s+', header=None, names=[\"RUL\"])"
   ]
  },
  {
   "cell_type": "code",
   "execution_count": 9,
   "id": "ae35e539-1ef6-43f7-a8da-9a467e827d4d",
   "metadata": {},
   "outputs": [],
   "source": [
    "# Define column names\n",
    "index_columns_names =  [\"unit_number\",\"cycle\"]\n",
    "operational_settings_columns_names = [\"operational_setting_\"+str(i) for i in range(1,4)]\n",
    "sensor_measure_columns_names =[\"sensor_\"+str(i) for i in range(1,22)]\n",
    "input_file_column_names = index_columns_names + operational_settings_columns_names + sensor_measure_columns_names"
   ]
  },
  {
   "cell_type": "code",
   "execution_count": 10,
   "id": "694e6bf1-1031-4d83-b1a0-5d4646c5fe84",
   "metadata": {},
   "outputs": [],
   "source": [
    "FD001_train.columns = input_file_column_names\n",
    "FD001_test.columns = input_file_column_names\n",
    "FD002_train.columns = input_file_column_names\n",
    "FD002_test.columns = input_file_column_names\n",
    "FD003_train.columns = input_file_column_names\n",
    "FD003_test.columns = input_file_column_names\n",
    "FD004_train.columns = input_file_column_names\n",
    "FD004_test.columns = input_file_column_names"
   ]
  },
  {
   "cell_type": "code",
   "execution_count": 11,
   "id": "a31192db-6db4-486f-9359-1a216d873e95",
   "metadata": {},
   "outputs": [],
   "source": [
    "datasets = {}\n",
    "\n",
    "# FD001 data\n",
    "datasets['FD001'] = {\n",
    "    'train': FD001_train,\n",
    "    'test': FD001_test,\n",
    "    'test_targets': FD001_test_targets\n",
    "}\n",
    "\n",
    "# FD002 data\n",
    "datasets['FD002'] = {\n",
    "    'train': FD002_train,\n",
    "    'test': FD002_test,\n",
    "    'test_targets': FD002_test_targets\n",
    "}\n",
    "\n",
    "# FD003 data\n",
    "datasets['FD003'] = {\n",
    "    'train': FD003_train,\n",
    "    'test': FD003_test,\n",
    "    'test_targets': FD003_test_targets\n",
    "}\n",
    "\n",
    "# FD004 data\n",
    "datasets['FD004'] = {\n",
    "    'train': FD004_train,\n",
    "    'test': FD004_test,\n",
    "    'test_targets': FD004_test_targets\n",
    "}"
   ]
  },
  {
   "cell_type": "code",
   "execution_count": 12,
   "id": "2aa8a45c-2ad3-400f-b587-bbcf8b081a82",
   "metadata": {},
   "outputs": [
    {
     "name": "stdout",
     "output_type": "stream",
     "text": [
      "FD001 Train dataset size: 20631\n",
      "FD001 Test_target dataset size: 100\n",
      "FD001 test data: Minimum of maximum cycle values: 31\n",
      "FD002 Train dataset size: 53759\n",
      "FD002 Test_target dataset size: 259\n",
      "FD002 test data: Minimum of maximum cycle values: 21\n",
      "FD003 Train dataset size: 24720\n",
      "FD003 Test_target dataset size: 100\n",
      "FD003 test data: Minimum of maximum cycle values: 38\n",
      "FD004 Train dataset size: 61249\n",
      "FD004 Test_target dataset size: 248\n",
      "FD004 test data: Minimum of maximum cycle values: 19\n"
     ]
    }
   ],
   "source": [
    "for engine_id, engine_data in datasets.items():\n",
    "    print(f\"{engine_id} Train dataset size: {len(engine_data['train'])}\")\n",
    "    print(f\"{engine_id} Test_target dataset size: {len(engine_data['test_targets'])}\")\n",
    "    engine_df = engine_data[\"test\"]\n",
    "    grouped_by_unit = engine_df.groupby(by=\"unit_number\")\n",
    "    max_cycle = grouped_by_unit[\"cycle\"].max()\n",
    "    min_max_cycle = max_cycle.min()\n",
    "    engine_data[\"max_window_size\"] = min_max_cycle\n",
    "    print(f\"{engine_id} test data: Minimum of maximum cycle values: {min_max_cycle}\")"
   ]
  },
  {
   "cell_type": "markdown",
   "id": "433e4614-4682-4f03-9a4b-e614dedfb29f",
   "metadata": {},
   "source": [
    "# Preprocessing"
   ]
  },
  {
   "cell_type": "markdown",
   "id": "855a56a2-4ec0-4a1a-91ad-d3cac61b25b0",
   "metadata": {},
   "source": [
    "## Helper Functions"
   ]
  },
  {
   "cell_type": "code",
   "execution_count": 13,
   "id": "b6713357-1366-4310-9008-c860a20f34c5",
   "metadata": {
    "scrolled": true
   },
   "outputs": [],
   "source": [
    "def calculate_rul(df, initial_rul=0):\n",
    "    \"\"\"\n",
    "    Calculates target RUL for a dataframe. If initial_rul is != 0 piece-wise linear degradation is calculated \n",
    "    (Initially, RUL is set to constant value until degradation starts). Otherwise, RUL is linear degradation \n",
    "    and starts with max_cycle number for a motor unit.\n",
    "    \n",
    "    Parameters:\n",
    "    - df: DataFrame containing the data\n",
    "    - initial_rul: Initial constant RUL value before degradation starts\n",
    "    \n",
    "    Returns:\n",
    "    - numpy array containing the RUL values for the entire dataframe\n",
    "    \"\"\"\n",
    "    grouped = df.groupby(\"unit_number\")\n",
    "    ruls = []\n",
    "\n",
    "    for _, unit in grouped:\n",
    "        max_cycle = unit.shape[0]\n",
    "        targets = np.arange(max_cycle-1, -1, -1)  # create array from max_cycle-1 to 0\n",
    "        if initial_rul > 0:\n",
    "            targets = np.clip(targets, None, initial_rul)\n",
    "        ruls.append(targets)\n",
    "    \n",
    "    return np.concatenate(ruls)"
   ]
  },
  {
   "cell_type": "code",
   "execution_count": 14,
   "id": "bf080dd7-798a-4229-8d6d-42e30a34d62d",
   "metadata": {
    "scrolled": true
   },
   "outputs": [],
   "source": [
    "def scale(df, scaler, train=True):\n",
    "    df_scaled = df.copy()\n",
    "    columns_to_scale = operational_settings_columns_names + sensor_measure_columns_names\n",
    "    if train: \n",
    "        df_scaled[columns_to_scale] = scaler.fit_transform(df_scaled[columns_to_scale])\n",
    "    else:\n",
    "        df_scaled[columns_to_scale] = scaler.transform(df_scaled[columns_to_scale])\n",
    "    return df_scaled, scaler"
   ]
  },
  {
   "cell_type": "code",
   "execution_count": 15,
   "id": "d4abf888-a684-4a0f-90f0-191e7b281f80",
   "metadata": {
    "scrolled": true
   },
   "outputs": [],
   "source": [
    "def generate_sequence(df, window_size=30, stride=1):\n",
    "    grouped = df.groupby(\"unit_number\")\n",
    "    X_processed = []\n",
    "    y_processed = []\n",
    "    for _, unit in grouped:\n",
    "        #unit_data = unit.sort_values(by=\"cycle\", ascending=True)\n",
    "        target = unit[\"rul\"]\n",
    "        windows = extract_windows(unit.drop([\"cycle\", \"rul\"],axis=1), window_size, stride)\n",
    "        X_processed.append(windows)\n",
    "        targets_for_windows = target[-windows.shape[0]::] #the target for a window is target rul of value at the end of window. So the first num_windows values of target care cut off\n",
    "        y_processed.append(targets_for_windows)\n",
    "    X_processed = np.concatenate(X_processed) # shape (number of total extracted windows,window size,  features)\n",
    "    y_processed = np.concatenate(y_processed) # shape (number of total extracted windows)\n",
    "    return X_processed, y_processed\n",
    "    \n",
    "def extract_windows(data, window_size, stride):\n",
    "    if data.shape[0] < window_size:\n",
    "            raise AssertionError(\"Window length is larger than sequence length \")\n",
    "    windows = sliding_window_view(data, window_shape=(window_size, data.shape[1])).squeeze() #squeeze to remove dimension with 1\n",
    "    if stride != 1:\n",
    "        windows = windows[::stride]\n",
    "    return windows  \n",
    "\n",
    "\n",
    "# Take last window for final prediction\n",
    "def generate_test_sequence(df,  window_size=30, stride=1):\n",
    "    grouped = df.groupby(\"unit_number\")\n",
    "    X_processed = []\n",
    "    for _, unit in grouped:\n",
    "        #unit_data = unit.sort_values(by=\"cycle\", ascending=True)\n",
    "        #windows = extract_windows(unit.drop([\"cycle\"],axis=1), window_size, stride)\n",
    "        #windows = windows[-n_windows:]  # take only last n windows\n",
    "        window = unit.drop([\"cycle\"], axis=1)[-window_size:]\n",
    "        X_processed.append(window)\n",
    "       \n",
    "    X_processed = np.stack(X_processed) # shape (number_units, window_size, features)\n",
    "\n",
    "    return X_processed"
   ]
  },
  {
   "cell_type": "markdown",
   "id": "da889b9b-cb50-4dfe-a2e4-350b9464efc3",
   "metadata": {},
   "source": [
    "## Dataset classes for Preprocessing"
   ]
  },
  {
   "cell_type": "markdown",
   "id": "4fee9b00-558c-4b64-a79b-34c89378cf0e",
   "metadata": {},
   "source": [
    "For the prediction only the last window of each motor is used."
   ]
  },
  {
   "cell_type": "code",
   "execution_count": 16,
   "id": "4a9371ab-81de-434f-95ff-684158cd97d9",
   "metadata": {},
   "outputs": [],
   "source": [
    "class CMAPPSDataset(Dataset):\n",
    "    def __init__(self, data, scaler, columns_to_drop, window_size, stride, initial_rul = 0, train=True):\n",
    "        self.data = data\n",
    "        if scaler is None:\n",
    "            self.scaler = StandardScaler()\n",
    "        elif isinstance(scaler, type):\n",
    "            self.scaler = scaler()  # scaler is a class, so we instantiate it\n",
    "        else:\n",
    "            self.scaler = scaler  # scaler is already an instance\n",
    "        \n",
    "        # if train is true scaler does fit_transform(). Else only transform()\n",
    "\n",
    "        self.X, self.scaler  = scale(self.data, scaler=self.scaler, train=train)\n",
    "        self.X = self.X.drop(columns_to_drop,axis=1)\n",
    "        self.X[\"rul\"] = calculate_rul(self.data, initial_rul = initial_rul)\n",
    "        self.X_seq, self.y_seq = generate_sequence(self.X, window_size=window_size, stride=stride)\n",
    "\n",
    "\n",
    "\n",
    "    def __len__(self):\n",
    "        return len(self.X_seq)\n",
    "\n",
    "\n",
    "    def __getitem__(self, idx):\n",
    "         sample =  torch.tensor(self.X_seq[idx], dtype=torch.float)\n",
    "         target =  torch.tensor(self.y_seq[idx], dtype=torch.float)\n",
    "         return sample, target\n",
    "\n",
    "    def get_scaler(self):\n",
    "        return self.scaler\n",
    "\n",
    "\n",
    "class CMAPPSTestDataset(Dataset):\n",
    "    def __init__(self, data, targets, scaler, columns_to_drop, window_size, stride, n_windows=1):\n",
    "        self.data = data\n",
    "        self.targets = targets\n",
    "        self.scaler = scaler #is already instantiated scaler\n",
    "        self.y = targets.squeeze()\n",
    "\n",
    "        # if train is true scaler is fit and transform. Else only transform\n",
    "        self.X, self.scaler  = scale(self.data, scaler=self.scaler, train=train)\n",
    "        self.X = self.X.drop(columns_to_drop,axis=1)\n",
    "        self.X_seq = generate_test_sequence(self.X, window_size=window_size, stride=stride)\n",
    "        \n",
    "\n",
    "    def __len__(self):\n",
    "        return len(self.X_seq)\n",
    "\n",
    "\n",
    "    def __getitem__(self, idx):\n",
    "         sample =  torch.tensor(self.X_seq[idx], dtype=torch.float)\n",
    "         target =  torch.tensor(self.y[idx], dtype=torch.float)\n",
    "         return sample, target"
   ]
  },
  {
   "cell_type": "markdown",
   "id": "df209baf-6197-42c5-b002-92e67b73b4d6",
   "metadata": {},
   "source": [
    "## Preprocessing tests"
   ]
  },
  {
   "cell_type": "code",
   "execution_count": 17,
   "id": "a6dcebca-e49d-4e66-9955-5e6484d4c807",
   "metadata": {},
   "outputs": [
    {
     "name": "stdout",
     "output_type": "stream",
     "text": [
      "rul piecewise-linear:  [125 125 125 125 125 125 125 125 125 125 125 125 125 125 125 125 125 125\n",
      " 125 125 125 125 125 125 125 125 125 125 125 125 125 125 125 125 125 125\n",
      " 125 125 125 125 125 125 125 125 125 125 125 125 125 125 125 125 125 125\n",
      " 125 125 125 125 125 125 125 125 125 125 125 125 125 124 123 122 121 120\n",
      " 119 118 117 116 115 114 113 112 111 110 109 108 107 106 105 104 103 102\n",
      " 101 100  99  98  97  96  95  94  93  92  91  90  89  88  87  86  85  84\n",
      "  83  82  81  80  79  78  77  76  75  74  73  72  71  70  69  68  67  66\n",
      "  65  64  63  62  61  60  59  58  57  56  55  54  53  52  51  50  49  48\n",
      "  47  46  45  44  43  42  41  40  39  38  37  36  35  34  33  32  31  30\n",
      "  29  28  27  26  25  24  23  22  21  20  19  18  17  16  15  14  13  12\n",
      "  11  10   9   8   7   6   5   4   3   2   1   0]\n",
      "rul linear:  [191 190 189 188 187 186 185 184 183 182 181 180 179 178 177 176 175 174\n",
      " 173 172 171 170 169 168 167 166 165 164 163 162 161 160 159 158 157 156\n",
      " 155 154 153 152 151 150 149 148 147 146 145 144 143 142 141 140 139 138\n",
      " 137 136 135 134 133 132 131 130 129 128 127 126 125 124 123 122 121 120\n",
      " 119 118 117 116 115 114 113 112 111 110 109 108 107 106 105 104 103 102\n",
      " 101 100  99  98  97  96  95  94  93  92  91  90  89  88  87  86  85  84\n",
      "  83  82  81  80  79  78  77  76  75  74  73  72  71  70  69  68  67  66\n",
      "  65  64  63  62  61  60  59  58  57  56  55  54  53  52  51  50  49  48\n",
      "  47  46  45  44  43  42  41  40  39  38  37  36  35  34  33  32  31  30\n",
      "  29  28  27  26  25  24  23  22  21  20  19  18  17  16  15  14  13  12\n",
      "  11  10   9   8   7   6   5   4   3   2   1   0]\n"
     ]
    }
   ],
   "source": [
    "# Test\n",
    "unit_1_df = FD001_train[FD001_train[\"unit_number\"]==1].copy()\n",
    "print(\"rul piecewise-linear: \" , calculate_rul(unit_1_df, initial_rul=125))\n",
    "print(\"rul linear: \",  calculate_rul(unit_1_df))"
   ]
  },
  {
   "cell_type": "code",
   "execution_count": 18,
   "id": "c7b3bb7a-2eb5-401d-a2fa-490f642a5a24",
   "metadata": {},
   "outputs": [
    {
     "name": "stdout",
     "output_type": "stream",
     "text": [
      "[[ 1  2]\n",
      " [ 3  4]\n",
      " [ 5  6]\n",
      " [ 7  8]\n",
      " [ 9 10]\n",
      " [11 12]\n",
      " [13 14]\n",
      " [15 16]\n",
      " [17 18]\n",
      " [19 20]]\n",
      "(10, 2)\n",
      "\n",
      " Extracted windows  with window size 2\n",
      " [[[ 1  2]\n",
      "  [ 3  4]]\n",
      "\n",
      " [[ 3  4]\n",
      "  [ 5  6]]\n",
      "\n",
      " [[ 5  6]\n",
      "  [ 7  8]]\n",
      "\n",
      " [[ 7  8]\n",
      "  [ 9 10]]\n",
      "\n",
      " [[ 9 10]\n",
      "  [11 12]]\n",
      "\n",
      " [[11 12]\n",
      "  [13 14]]\n",
      "\n",
      " [[13 14]\n",
      "  [15 16]]\n",
      "\n",
      " [[15 16]\n",
      "  [17 18]]\n",
      "\n",
      " [[17 18]\n",
      "  [19 20]]]\n"
     ]
    }
   ],
   "source": [
    "a = np.arange(1,21).reshape(10,2) #first dimension is time step\n",
    "print(a)\n",
    "print(a.shape)\n",
    "b = np.arange(1,11)\n",
    "X = extract_windows(a, window_size=2, stride=1)\n",
    "print(\"\\n Extracted windows  with window size 2\\n\", X)"
   ]
  },
  {
   "cell_type": "code",
   "execution_count": 19,
   "id": "ccd13dc7-ef68-4e2a-ae06-e175b98f0515",
   "metadata": {},
   "outputs": [
    {
     "name": "stdout",
     "output_type": "stream",
     "text": [
      "(20631, 27)\n",
      "(20631,)\n",
      "(20631, 5)\n",
      "   unit_number  cycle  sensor_2  sensor_17  rul\n",
      "0            1      1 -1.721725  -0.781710  191\n",
      "1            1      2 -1.061780  -0.781710  190\n",
      "2            1      3 -0.661813  -2.073094  189\n",
      "3            1      4 -0.661813  -0.781710  188\n",
      "4            1      5 -0.621816  -0.136018  187\n"
     ]
    }
   ],
   "source": [
    "data = FD001_train.copy()\n",
    "\n",
    "X= data\n",
    "X[\"rul\"] = calculate_rul(data)\n",
    "print(X.shape)\n",
    "print(X[\"rul\"].shape)\n",
    "\n",
    "X, _ = scale(X, StandardScaler())\n",
    "columns_to_drop_test = ['operational_setting_1', 'operational_setting_2', 'operational_setting_3', \n",
    "                   'sensor_1', 'sensor_3', 'sensor_4', 'sensor_5', 'sensor_6', 'sensor_7', 'sensor_8', 'sensor_9',\n",
    "                   'sensor_10', 'sensor_11', 'sensor_12', 'sensor_13', 'sensor_14', 'sensor_15', 'sensor_16', 'sensor_18', 'sensor_19', 'sensor_20', 'sensor_21']\n",
    "X = X.drop( columns_to_drop_test, axis=1)\n",
    "print(X.shape)\n",
    "print(X.head())"
   ]
  },
  {
   "cell_type": "code",
   "execution_count": 20,
   "id": "a50dd1fc-b7de-4360-9263-e76ee1b35249",
   "metadata": {},
   "outputs": [
    {
     "name": "stdout",
     "output_type": "stream",
     "text": [
      "(17731, 30, 3)\n",
      "(17731,)\n"
     ]
    }
   ],
   "source": [
    "X_seq, y_seq = generate_sequence(X, window_size=30, stride=1)\n",
    "print(X_seq.shape)\n",
    "print(y_seq.shape)"
   ]
  },
  {
   "cell_type": "code",
   "execution_count": 21,
   "id": "40d151c6-b1d4-4bd6-80e8-f5af0adaed69",
   "metadata": {},
   "outputs": [
    {
     "name": "stdout",
     "output_type": "stream",
     "text": [
      "(13096, 26)\n",
      "Target shape:  (100, 1)\n",
      "Test seq shape (100, 30, 25)\n"
     ]
    }
   ],
   "source": [
    "data = FD001_test.copy()\n",
    "\n",
    "X_seq = generate_test_sequence(data, window_size=30, stride=1)\n",
    "print(data.shape)\n",
    "print(\"Target shape: \", FD001_test_targets.shape)\n",
    "print(\"Test seq shape\", X_seq.shape)\n"
   ]
  },
  {
   "cell_type": "code",
   "execution_count": 22,
   "id": "4e9d649c-196c-42d5-97e2-3da0446cd07f",
   "metadata": {},
   "outputs": [
    {
     "name": "stdout",
     "output_type": "stream",
     "text": [
      "(20631, 26)\n",
      "(17731, 30, 25)\n",
      "(17731,)\n",
      "130\n",
      "(100, 30, 25)\n",
      "(100,)\n"
     ]
    }
   ],
   "source": [
    "print(FD001_train.shape)\n",
    "dataset = CMAPPSDataset(FD001_train.copy(), StandardScaler, [], window_size=30, stride=1, initial_rul = 130, train=True)\n",
    "scaler = dataset.get_scaler()\n",
    "print(dataset.X_seq.shape)\n",
    "print(dataset.y_seq.shape)\n",
    "#print(dataset.X_seq[0])\n",
    "print(dataset.y_seq[0])\n",
    "test_dataset = CMAPPSTestDataset(FD001_test, FD001_test_targets, scaler, [], window_size=30, stride=1)\n",
    "print(test_dataset.X_seq.shape)\n",
    "print(test_dataset.y.shape)"
   ]
  },
  {
   "cell_type": "markdown",
   "id": "e693c9c7-a947-445f-ab7b-d929492f6e36",
   "metadata": {},
   "source": [
    "# Models"
   ]
  },
  {
   "cell_type": "code",
   "execution_count": 23,
   "id": "56448cbb-7c42-4c19-a0d2-70d43f482828",
   "metadata": {},
   "outputs": [],
   "source": [
    "class LSTMModel(nn.Module):\n",
    "    def __init__(self, input_size, lstm_hidden_sizes=[64], fc_hidden_sizes=[64], output_size=1, activation=nn.ReLU, dropout=0.0, lstm_activation=nn.Tanh):\n",
    "        super(LSTMModel, self).__init__()\n",
    "\n",
    "        self.lstm_hidden_sizes = lstm_hidden_sizes\n",
    "        self.fc_hidden_sizes = fc_hidden_sizes\n",
    "        self.lstm_layers = []\n",
    "        self.fc_layers = []\n",
    "        self.activation = activation()\n",
    "        self.dropout = dropout\n",
    "        self.lstm_activation = lstm_activation()\n",
    "        self.dropout = nn.Dropout(dropout)\n",
    "        \n",
    "        # LSTM layers\n",
    "        num_lstm_layers = len(lstm_hidden_sizes)\n",
    "        lstm_input_size = input_size\n",
    "        for i in range(num_lstm_layers):\n",
    "            hidden_size = lstm_hidden_sizes[i] if i < len(lstm_hidden_sizes) else lstm_hidden_sizes[-1]\n",
    "            self.lstm_layers.append(nn.LSTM(lstm_input_size, hidden_size, batch_first=True))\n",
    "            lstm_input_size = hidden_size\n",
    "        \n",
    "        self.lstm = nn.ModuleList(self.lstm_layers)\n",
    "        \n",
    "        # FC layers\n",
    "        num_fc_layers = len(fc_hidden_sizes)\n",
    "        fc_input_size = lstm_hidden_sizes[-1] if lstm_hidden_sizes else input_size\n",
    "        for i in range(num_fc_layers):\n",
    "            hidden_size = fc_hidden_sizes[i] if i < len(fc_hidden_sizes) else fc_hidden_sizes[-1]\n",
    "            self.fc_layers.append(nn.Linear(fc_input_size, hidden_size))\n",
    "            fc_input_size = hidden_size\n",
    "        \n",
    "        self.fc = nn.ModuleList(self.fc_layers)\n",
    "        self.output_layer = nn.Linear(fc_input_size, output_size)\n",
    "    \n",
    "    def forward(self, x):\n",
    "        # LSTM layers\n",
    "        for i, lstm_layer in enumerate(self.lstm):\n",
    "            x, _ = lstm_layer(x)\n",
    "            if self.lstm_activation:\n",
    "                x = self.lstm_activation(x)\n",
    "            #x = self.dropout(x)\n",
    "        \n",
    "        # FC layers\n",
    "        for i, fc_layer in enumerate(self.fc):\n",
    "            x = fc_layer(x)\n",
    "            x = self.activation(x) if i < len(self.fc_layers) - 1 else x\n",
    "            x = self.dropout(x)\n",
    "        \n",
    "        out = self.output_layer(x[:, -1, :])  # Taking the last output from the sequence\n",
    "        return out.squeeze()\n",
    "\n"
   ]
  },
  {
   "cell_type": "markdown",
   "id": "f39a0c76-2fd8-4618-99cc-d6ef61c09f4d",
   "metadata": {},
   "source": [
    "## Hybrid Deep Neural Network\n",
    "https://ieeexplore.ieee.org/document/8683763\n",
    "<img src=\"image/HDNN.png\" alt=\"Alt text\" title=\"Optional title\">"
   ]
  },
  {
   "cell_type": "code",
   "execution_count": 24,
   "id": "e64699f1-69b8-4026-9b6e-8b7b8f949f75",
   "metadata": {},
   "outputs": [],
   "source": [
    "# input is (batch, window_size, features)\n",
    "\n",
    "class HybridDeepNeuralNetwork(nn.Module):\n",
    "    def __init__(self, input_size, window_size, lstm_hidden_sizes=[32, 32, 64],  output_size=1, activation=nn.ReLU, dropout=0.0,  kernel_sizes = [(10,1), (10,1), (3,1)], out_channels = [10, 10, 1], kernel_max_pool_size=(2,1), fc_hidden_sizes = [100, 100]):\n",
    "        super(HybridDeepNeuralNetwork, self).__init__()\n",
    "        self.feature_dim = input_size\n",
    "        num_lstm_layers = len(lstm_hidden_sizes)\n",
    "        lstm_input_size =  self.feature_dim\n",
    "        self.lstm_layers = []\n",
    "        for i in range(num_lstm_layers):\n",
    "            hidden_size = lstm_hidden_sizes[i] if i < len(lstm_hidden_sizes) else lstm_hidden_sizes[-1]\n",
    "            self.lstm_layers.append(nn.LSTM(lstm_input_size, hidden_size, batch_first=True, dropout=dropout))\n",
    "            lstm_input_size = hidden_size\n",
    "        \n",
    "        self.lstm = nn.ModuleList(self.lstm_layers)\n",
    "\n",
    "\n",
    "        self.conv_layers = []\n",
    "        num_conv_layers = len(kernel_sizes)\n",
    "        in_channels = [1] + out_channels[:-1]\n",
    "        for i in range(num_conv_layers):\n",
    "            self.conv_layers.append(nn.Conv2d(in_channels=in_channels[i], out_channels=out_channels[i], kernel_size=kernel_sizes[i], padding='same'))\n",
    "            if i != (num_conv_layers-1):\n",
    "                self.conv_layers.append(nn.MaxPool2d(kernel_size=kernel_max_pool_size))\n",
    "        self.conv = nn.ModuleList(self.conv_layers)\n",
    "\n",
    "         # FC layers\n",
    "        num_fc_layers = len(fc_hidden_sizes)\n",
    "        fc_input_size = lstm_hidden_sizes[-1] + ( window_size // (2 ** (num_conv_layers - 1))  * self.feature_dim)\n",
    "        self.fc_layers = []\n",
    "        for i in range(num_fc_layers):\n",
    "            hidden_size = fc_hidden_sizes[i] if i < len(fc_hidden_sizes) else fc_hidden_sizes[-1]\n",
    "            self.fc_layers.append(nn.Linear(fc_input_size, hidden_size))\n",
    "            self.fc_layers.append(nn.Tanh())\n",
    "            fc_input_size = hidden_size\n",
    "        \n",
    "        self.fc = nn.ModuleList(self.fc_layers)\n",
    "        self.output_layer = nn.Linear(fc_input_size, output_size)\n",
    "\n",
    "    def forward(self, x):\n",
    "         # LSTM forward pass\n",
    "        # x has shape (batch, window_size, feature_dim)\n",
    "        lstm_out = x\n",
    "        for lstm_layer in self.lstm_layers:\n",
    "            lstm_out, _ = lstm_layer(lstm_out)\n",
    "        \n",
    "        # Convolutional forward pass\n",
    "        conv_out = x.unsqueeze(1)  # Add a channel dimension\n",
    "        #conv_out = x.permute(0,2,1) # conv2d input shape (batch, channel, h x w)\n",
    "        for conv_layer in self.conv_layers:\n",
    "            conv_out = conv_layer(conv_out)\n",
    "           # print(\"conv out\", conv_out.shape)\n",
    "            \n",
    "        conv_out_flat =  conv_out.reshape(conv_out.shape[0], -1)\n",
    "        combined= torch.cat([lstm_out[:, -1, :], conv_out_flat], dim=1)\n",
    "        # Fully connected layers forward pass\n",
    "        fc_out = combined\n",
    "        for fc_layer in self.fc_layers:\n",
    "            fc_out = fc_layer(fc_out)\n",
    "        out = self.output_layer(fc_out)\n",
    "        return out\n",
    "\n"
   ]
  },
  {
   "cell_type": "markdown",
   "id": "cc29bb6b-4222-4435-9e76-6530e608f9ca",
   "metadata": {},
   "source": [
    "# Train and evaluation loop\n",
    "Using 5-Fold Cross Validation, the training set is split by groups."
   ]
  },
  {
   "cell_type": "code",
   "execution_count": 25,
   "id": "c948949f-e91d-4e79-bcbc-db2a78c86914",
   "metadata": {},
   "outputs": [],
   "source": [
    "import time\n",
    "\n",
    "def compute_s_score(rul_pred, rul_true):\n",
    "    diff = rul_pred - rul_true\n",
    "    return torch.mean(torch.where(diff < 0, torch.exp(-diff/13)-1, torch.exp(diff/10)-1))\n",
    "\n",
    "def reset_weights(m):\n",
    "  '''\n",
    "    Try resetting model weights to avoid\n",
    "    weight leakage.\n",
    "  '''\n",
    "  for layer in m.children():\n",
    "   if hasattr(layer, 'reset_parameters'):\n",
    "    #print(f'Reset trainable parameters of layer = {layer}')\n",
    "    layer.reset_parameters()\n",
    "       \n",
    "def train_epoch(model, train_loader, criterion, optimizer, device):\n",
    "    model.train()\n",
    "    running_loss = 0.0\n",
    "    for inputs, targets in train_loader:\n",
    "        inputs, targets = inputs.to(device), targets.to(device)\n",
    "        optimizer.zero_grad()\n",
    "        outputs = model(inputs).squeeze()\n",
    "        if outputs.dim() == 0:  # Handle the case where outputs is a scalar\n",
    "            outputs = outputs.unsqueeze(0)\n",
    "        loss = criterion(outputs, targets)\n",
    "        running_loss +=loss.item()\n",
    "        loss.backward()\n",
    "        optimizer.step()\n",
    "        \n",
    "    total_train_loss = running_loss / len(train_loader)\n",
    "    return total_train_loss\n",
    "\n",
    "\n",
    "def evaluate(model, val_loader, criterion, device):\n",
    "    model.eval()\n",
    "    running_loss = 0.0\n",
    "    score = 0.0\n",
    "    #total_samples = 0\n",
    "    all_outputs = []\n",
    "    with torch.no_grad():\n",
    "        for inputs, targets in val_loader:\n",
    "            inputs, targets = inputs.to(device), targets.to(device)\n",
    "            outputs = model(inputs).squeeze()\n",
    "            if outputs.dim() == 0:  # Handle the case where outputs is a scalar\n",
    "                outputs = outputs.unsqueeze(0)\n",
    "            all_outputs.append(outputs)\n",
    "            loss = criterion(outputs, targets)\n",
    "            running_loss +=loss.item()  * inputs.size(0)\n",
    "            score += compute_s_score(outputs, targets).item()  * inputs.size(0)\n",
    "            #score = compute_s_score(outputs, targets)\n",
    "            #scores.append(score.item()) \n",
    "\n",
    "    total_loss = running_loss / len(val_loader.dataset)\n",
    "    mean_score = score / len(val_loader.dataset)\n",
    "    all_outputs = torch.cat(all_outputs, dim=0)\n",
    "    return total_loss, mean_score, all_outputs # Divide by the total number of samples\n",
    "\n",
    "\n",
    "\n",
    "def train_model(params: dict, data):\n",
    "    device = torch.device(\"cuda\" if torch.cuda.is_available() else \"cpu\")\n",
    "    torch.manual_seed(42)\n",
    "  \n",
    "    # Cross Validation\n",
    "    n_splits=5\n",
    "    losses = []\n",
    "    scores = []\n",
    "    \n",
    "    criterion = nn.MSELoss()\n",
    "\n",
    "    \n",
    "    for fold, (train_ids, val_ids) in enumerate(GroupKFold(n_splits=n_splits).split(data, y=None, groups= data[\"unit_number\"].copy())):\n",
    "        print(f\" Start training Fold {fold + 1}/{n_splits}\")\n",
    "\n",
    "        # Load datasets and perform preproccesing\n",
    "        #start_time = time.time()\n",
    "        train_subset = CMAPPSDataset( data=data.iloc[train_ids], scaler=params[\"scaler_cls\"], columns_to_drop=params[\"columns_to_drop\"], window_size=params[\"window_size\"], stride=params[\"stride\"], initial_rul = params[\"initial_rul\"], train=True)\n",
    "        train_scaler = train_subset.get_scaler()\n",
    "        \n",
    "        val_subset = CMAPPSDataset( data=data.iloc[val_ids], scaler=train_scaler, columns_to_drop=params[\"columns_to_drop\"], window_size=params[\"window_size\"], stride=params[\"stride\"],initial_rul =  params[\"initial_rul\"], train=False)\n",
    "        #end_time = time.time()\n",
    "        #elapsed_time = end_time - start_time\n",
    "        #print(\"Elapsed time:\", elapsed_time, \"seconds\")\n",
    "\n",
    "        train_loader = DataLoader(train_subset, batch_size=params[\"batch_size\"], shuffle=True, num_workers=8)\n",
    "        val_loader = DataLoader(val_subset, batch_size=params[\"batch_size\"], shuffle=False, num_workers=8)\n",
    "        \n",
    "\n",
    "        # Initialize model\n",
    "        input_sample, _ = train_subset[0]\n",
    "        input_size = input_sample.shape[-1]\n",
    "        model_params = params[\"model_params\"]\n",
    "        model_params[\"input_size\"] = input_size\n",
    "        # Initialize the model using the dictionary\n",
    "        model = params[\"model_cls\"](**params[\"model_params\"]).to(device)\n",
    "        model.apply(reset_weights)\n",
    "\n",
    "        #Initialize optimizer\n",
    "        optimizer = params[\"optimizer_cls\"](params = model.parameters(),lr=params[\"lr\"])\n",
    "\n",
    "        # Early stopping variables\n",
    "        best_val_loss = float('inf')\n",
    "        patience = 5  # Number of epochs to wait for improvement\n",
    "        num_epochs_no_improve = 0  # Number of epochs with no improvement\n",
    "\n",
    "        print_frequency = max(params[\"num_epochs\"] // 10, 1) # show maximum of 10 lines\n",
    "        # Train loop\n",
    "        val_loss, score  = None, None\n",
    "        for epoch in range(params[\"num_epochs\"] ):\n",
    "            train_loss = train_epoch(model, train_loader, criterion, optimizer, device)\n",
    "            val_loss, score, _ = evaluate(model, val_loader, criterion, device)\n",
    "            if (epoch + 1) %  print_frequency == 0 or (epoch+1) ==  params[\"num_epochs\"] : # Also print last epoch\n",
    "                print(f\"Epoch {epoch + 1}/{params['num_epochs']}, Train Loss: {train_loss} | Validation Loss MSE: {val_loss} | RMSE: {np.sqrt(val_loss)}  | Score: {score}\")\n",
    "             # Early stopping\n",
    "            if val_loss < best_val_loss:\n",
    "                best_val_loss = val_loss\n",
    "                num_epochs_no_improve = 0\n",
    "            else:\n",
    "                num_epochs_no_improve += 1\n",
    "                if num_epochs_no_improve >= patience:\n",
    "                    print(f\"No improvement for {patience} epochs. Early stopping...\")\n",
    "                    break\n",
    "         \n",
    "        # Save loss and score of last epoch when training is finished to calculate average over all folds\n",
    "        losses.append(val_loss)\n",
    "        scores.append(score)\n",
    "\n",
    "\n",
    "    avg_val_loss = np.mean(losses)\n",
    "    avg_rmse_loss = np.sqrt(avg_val_loss)\n",
    "    avg_score =  np.mean(scores)\n",
    "    print(f\" Average over  {n_splits} Folds: Val Loss MSE: {avg_val_loss} |  RMSE: {avg_rmse_loss}  | Score: {avg_score}\")\n",
    "    \n",
    "    train.report({\"mse\": avg_val_loss, 'rmse': avg_rmse_loss, 'score': avg_score })\n"
   ]
  },
  {
   "cell_type": "markdown",
   "id": "7a665d12-a4ca-4eac-8a24-cd89c0dede90",
   "metadata": {},
   "source": [
    "## Final Training and Evaluation loop"
   ]
  },
  {
   "cell_type": "code",
   "execution_count": 26,
   "id": "467277d0-dc25-473f-83e1-6cacaceadda7",
   "metadata": {},
   "outputs": [],
   "source": [
    "def final_train_and_evaluate(params, train_data, test_data, targets ,save_dir=\"models\", name=\"final_model\"):\n",
    "    device = torch.device(\"cuda\" if torch.cuda.is_available() else \"cpu\")\n",
    "    torch.manual_seed(42)\n",
    "   \n",
    "    # Parameters for training\n",
    "    train_dataset = CMAPPSDataset(data=train_data, scaler=params[\"scaler_cls\"], columns_to_drop=params[\"columns_to_drop\"], window_size=params[\"window_size\"], stride=params[\"stride\"], initial_rul=params[\"initial_rul\"], train=True)\n",
    "    train_loader = DataLoader(train_dataset, batch_size=params[\"batch_size\"], shuffle=True, num_workers=8)\n",
    "    scaler = train_dataset.get_scaler()\n",
    "\n",
    "    test_dataset = CMAPPSTestDataset(data=test_data, n_windows=1, targets=targets, scaler=scaler, columns_to_drop=params[\"columns_to_drop\"] , window_size=params[\"window_size\"],stride=params[\"stride\"])\n",
    "    test_loader = DataLoader(test_dataset, batch_size=params[\"batch_size\"], shuffle=False, num_workers=8)\n",
    "\n",
    "\n",
    "    # Instantiate model\n",
    "    input_sample, _ = train_dataset[0]\n",
    "    input_size = input_sample.shape[-1]\n",
    "    model_params = params[\"model_params\"]\n",
    "    model_params[\"input_size\"] = input_size\n",
    "    # Initialize the model using the dictionary\n",
    "    model = params[\"model_cls\"](**params[\"model_params\"]).to(device)\n",
    "    model.apply(reset_weights)\n",
    "    \n",
    "    criterion = nn.MSELoss()\n",
    "    optimizer = params[\"optimizer_cls\"](model.parameters(), lr=params[\"lr\"])   \n",
    "    # Train loop\n",
    "    print_frequency = max(params[\"num_epochs\"] // 10, 1) # show maximum of 10 lines\n",
    "    for epoch in range(params[\"num_epochs\"]):\n",
    "        train_loss = train_epoch(model, train_loader, criterion, optimizer, device)\n",
    "        if (epoch + 1) %  print_frequency == 0:\n",
    "            print(f\"Epoch {epoch + 1}/{params['num_epochs']}, Train Loss: {train_loss}\")\n",
    "    \n",
    "     # Evaluate\n",
    "    test_mse_loss, test_score, outputs  = evaluate(model, test_loader, criterion, device)\n",
    "    test_rmse_loss = np.sqrt(test_mse_loss)\n",
    "    print(f'Test Loss MSE: {test_mse_loss} |  RMSE: {test_rmse_loss} | Score: {test_score}')\n",
    "   \n",
    "    return model, test_rmse_loss, test_score, outputs"
   ]
  },
  {
   "cell_type": "markdown",
   "id": "225f847f-4c11-4443-b3aa-91db21bf0d87",
   "metadata": {},
   "source": [
    "## Saving Results"
   ]
  },
  {
   "cell_type": "code",
   "execution_count": 27,
   "id": "444a22fb-0024-4ea9-b713-70adfdc55c91",
   "metadata": {},
   "outputs": [],
   "source": [
    "def serialize_params(params):\n",
    "    params_serializable = {}\n",
    "    for key, value in params.items():\n",
    "        if isinstance(value, dict):  # Check if value is a dictionary\n",
    "            params_serializable[key] = serialize_params(value)  # Recursively serialize nested dictionary\n",
    "        elif hasattr(value, \"__name__\"):  # Check if value has a __name__ attribute\n",
    "            params_serializable[key] = value.__name__  # Use the name of the class\n",
    "        else:\n",
    "            params_serializable[key] = value\n",
    "    return params_serializable\n",
    "\n",
    "def save_model_and_results(model, save_dir, name, params, rmse, score): # Save final model and results as json\n",
    "    os.makedirs(save_dir, exist_ok=True)\n",
    "    final_model_path = os.path.join(save_dir, name + '.pth')\n",
    "    torch.save(model.state_dict(), final_model_path)\n",
    "    print(f\"Final model saved at {final_model_path}\")\n",
    "\n",
    "    results = {\n",
    "        \"params\": serialize_params(params),\n",
    "        \"rmse\": rmse,\n",
    "        \"score\": score\n",
    "    }\n",
    "\n",
    "    # Create file path\n",
    "    results_file_path = os.path.join(save_dir, name + \".json\")\n",
    "    \n",
    "    # Write results to JSON file\n",
    "    with open(results_file_path, \"w\") as f:\n",
    "        json.dump(results, f)\n",
    "    print(f\"Results saved at {results_file_path}\")"
   ]
  },
  {
   "cell_type": "markdown",
   "id": "e8857252-d355-48be-b54f-ba46b67272ad",
   "metadata": {},
   "source": [
    "## Grid Search"
   ]
  },
  {
   "cell_type": "code",
   "execution_count": 28,
   "id": "a8020ea3-1e79-48aa-bb85-152ea69f6864",
   "metadata": {},
   "outputs": [],
   "source": [
    "def grid_search(engine_name, param_grid, filename):\n",
    "    train_data = datasets[engine_name][\"train\"].copy()\n",
    "    test_data = datasets[engine_name][\"test\"].copy()\n",
    "    test_targets = datasets[engine_name][\"test_targets\"].copy()\n",
    "\n",
    "    scheduler = ASHAScheduler(\n",
    "        max_t=10,\n",
    "        grace_period=1,\n",
    "        reduction_factor=2)\n",
    "\n",
    "    tuner = tune.Tuner(\n",
    "        tune.with_resources(\n",
    "            tune.with_parameters(train_model, data=train_data), \n",
    "         resources={\"cpu\":8, \"gpu\": 1}),\n",
    "        tune_config=tune.TuneConfig(\n",
    "                metric=\"rmse\",\n",
    "                mode=\"min\",\n",
    "                scheduler=scheduler,\n",
    "                num_samples=1,\n",
    "            ),\n",
    "        param_space=param_grid)\n",
    "    results = tuner.fit()\n",
    "\n",
    "    best_result = results.get_best_result(\"rmse\")\n",
    "    print(\"Best trial RMSE validation loss (average over folds): {}\".format( best_result.metrics[\"rmse\"]))\n",
    "    best_params = best_result.config\n",
    "    print(\"Best trial config: {}\".format(best_params))\n",
    "    model, rmse, score, outputs = final_train_and_evaluate(best_params, train_data, test_data, test_targets , filename)\n",
    "    path = engine_name + \"_\" + filename\n",
    "    save_model_and_results(model=model, save_dir=\"results\", name=path, params=best_params, rmse=rmse, score=score)\n",
    "    return model, best_params, rmse, score, outputs"
   ]
  },
  {
   "cell_type": "markdown",
   "id": "fb22652d-80f0-46c5-bbc4-9ddf98c6ef10",
   "metadata": {},
   "source": [
    "# First tests"
   ]
  },
  {
   "cell_type": "code",
   "execution_count": 82,
   "id": "49b2859e-602b-4159-8f29-9f1fb0836e11",
   "metadata": {},
   "outputs": [],
   "source": [
    "columns_to_drop = []\n",
    "param_grid_baseline = {\n",
    "    \"model_cls\": LSTMModel,\n",
    "    \"model_params\": {\n",
    "            \"lstm_hidden_sizes\":   [128, 64, 32],\n",
    "            \"fc_hidden_sizes\": [64, 128],\n",
    "            \"output_size\": 1,\n",
    "            \"activation\": nn.ReLU,\n",
    "            \"dropout\": 0.0,\n",
    "        },\n",
    "    \"scaler_cls\": StandardScaler,\n",
    "    \"window_size\": 30,\n",
    "    \"stride\": 1,\n",
    "    \"batch_size\": 128,\n",
    "    \"initial_rul\": 0,\n",
    "    \"optimizer_cls\": optim.Adam,\n",
    "    \"lr\": 0.001,\n",
    "    \"num_epochs\": 10,\n",
    "    \"columns_to_drop\": columns_to_drop\n",
    "}"
   ]
  },
  {
   "cell_type": "code",
   "execution_count": 83,
   "id": "8ba74aa5-a03e-4d1a-9f0f-6be43a8a2f57",
   "metadata": {},
   "outputs": [
    {
     "data": {
      "text/html": [
       "<div class=\"tuneStatus\">\n",
       "  <div style=\"display: flex;flex-direction: row\">\n",
       "    <div style=\"display: flex;flex-direction: column;\">\n",
       "      <h3>Tune Status</h3>\n",
       "      <table>\n",
       "<tbody>\n",
       "<tr><td>Current time:</td><td>2024-06-01 16:05:26</td></tr>\n",
       "<tr><td>Running for: </td><td>00:00:49.02        </td></tr>\n",
       "<tr><td>Memory:      </td><td>11.2/503.0 GiB     </td></tr>\n",
       "</tbody>\n",
       "</table>\n",
       "    </div>\n",
       "    <div class=\"vDivider\"></div>\n",
       "    <div class=\"systemInfo\">\n",
       "      <h3>System Info</h3>\n",
       "      Using AsyncHyperBand: num_stopped=0<br>Bracket: Iter 8.000: None | Iter 4.000: None | Iter 2.000: None | Iter 1.000: -35.98375279041018<br>Logical resource usage: 8.0/8 CPUs, 1.0/1 GPUs (0.0/1.0 accelerator_type:A100)\n",
       "    </div>\n",
       "    \n",
       "  </div>\n",
       "  <div class=\"hDivider\"></div>\n",
       "  <div class=\"trialStatus\">\n",
       "    <h3>Trial Status</h3>\n",
       "    <table>\n",
       "<thead>\n",
       "<tr><th>Trial name             </th><th>status    </th><th>loc             </th><th style=\"text-align: right;\">  iter</th><th style=\"text-align: right;\">  total time (s)</th><th style=\"text-align: right;\">    mse</th><th style=\"text-align: right;\">   rmse</th><th style=\"text-align: right;\">  score</th></tr>\n",
       "</thead>\n",
       "<tbody>\n",
       "<tr><td>train_model_a5794_00000</td><td>TERMINATED</td><td>10.42.0.9:989492</td><td style=\"text-align: right;\">     1</td><td style=\"text-align: right;\">         46.3932</td><td style=\"text-align: right;\">1294.83</td><td style=\"text-align: right;\">35.9838</td><td style=\"text-align: right;\">18317.1</td></tr>\n",
       "</tbody>\n",
       "</table>\n",
       "  </div>\n",
       "</div>\n",
       "<style>\n",
       ".tuneStatus {\n",
       "  color: var(--jp-ui-font-color1);\n",
       "}\n",
       ".tuneStatus .systemInfo {\n",
       "  display: flex;\n",
       "  flex-direction: column;\n",
       "}\n",
       ".tuneStatus td {\n",
       "  white-space: nowrap;\n",
       "}\n",
       ".tuneStatus .trialStatus {\n",
       "  display: flex;\n",
       "  flex-direction: column;\n",
       "}\n",
       ".tuneStatus h3 {\n",
       "  font-weight: bold;\n",
       "}\n",
       ".tuneStatus .hDivider {\n",
       "  border-bottom-width: var(--jp-border-width);\n",
       "  border-bottom-color: var(--jp-border-color0);\n",
       "  border-bottom-style: solid;\n",
       "}\n",
       ".tuneStatus .vDivider {\n",
       "  border-left-width: var(--jp-border-width);\n",
       "  border-left-color: var(--jp-border-color0);\n",
       "  border-left-style: solid;\n",
       "  margin: 0.5em 1em 0.5em 1em;\n",
       "}\n",
       "</style>\n"
      ],
      "text/plain": [
       "<IPython.core.display.HTML object>"
      ]
     },
     "metadata": {},
     "output_type": "display_data"
    },
    {
     "name": "stderr",
     "output_type": "stream",
     "text": [
      "2024-06-01 16:05:26,875\tINFO tune.py:1007 -- Wrote the latest version of all result files and experiment state to '/home/jovyan/ray_results/train_model_2024-06-01_16-04-37' in 0.0067s.\n",
      "2024-06-01 16:05:26,880\tINFO tune.py:1039 -- Total run time: 49.04 seconds (49.01 seconds for the tuning loop).\n"
     ]
    },
    {
     "name": "stdout",
     "output_type": "stream",
     "text": [
      "Best trial RMSE validation loss (average over folds): 35.98375279041018\n",
      "Best trial config: {'model_cls': <class '__main__.LSTMModel'>, 'model_params': {'lstm_hidden_sizes': [128, 64, 32], 'fc_hidden_sizes': [64, 128], 'output_size': 1, 'activation': <class 'torch.nn.modules.activation.ReLU'>, 'dropout': 0.0, 'input_size': 25}, 'scaler_cls': <class 'sklearn.preprocessing._data.StandardScaler'>, 'window_size': 30, 'stride': 1, 'batch_size': 128, 'initial_rul': 0, 'optimizer_cls': <class 'torch.optim.adam.Adam'>, 'lr': 0.001, 'num_epochs': 10, 'columns_to_drop': []}\n",
      "Epoch 1/10, Train Loss: 6587.741825680081\n",
      "Epoch 2/10, Train Loss: 3746.6679950961106\n",
      "Epoch 3/10, Train Loss: 1889.608446299601\n",
      "Epoch 4/10, Train Loss: 1158.295208169402\n",
      "Epoch 5/10, Train Loss: 953.0704885798392\n",
      "Epoch 6/10, Train Loss: 822.4756179919345\n",
      "Epoch 7/10, Train Loss: 763.3414339573263\n",
      "Epoch 8/10, Train Loss: 706.2862109726282\n",
      "Epoch 9/10, Train Loss: 663.881386955865\n",
      "Epoch 10/10, Train Loss: 616.0265592945566\n",
      "Test Loss MSE: 859.645263671875 |  RMSE: 29.31970776921003 | Score: 101.48409271240234\n",
      "Final model saved at results/FD001_baseline.pth\n",
      "Results saved at results/FD001_baseline.json\n",
      "LSTMModel(\n",
      "  (activation): ReLU()\n",
      "  (lstm_activation): Tanh()\n",
      "  (dropout): Dropout(p=0.0, inplace=False)\n",
      "  (lstm): ModuleList(\n",
      "    (0): LSTM(25, 128, batch_first=True)\n",
      "    (1): LSTM(128, 64, batch_first=True)\n",
      "    (2): LSTM(64, 32, batch_first=True)\n",
      "  )\n",
      "  (fc): ModuleList(\n",
      "    (0): Linear(in_features=32, out_features=64, bias=True)\n",
      "    (1): Linear(in_features=64, out_features=128, bias=True)\n",
      "  )\n",
      "  (output_layer): Linear(in_features=128, out_features=1, bias=True)\n",
      ")\n"
     ]
    }
   ],
   "source": [
    "results = grid_search(\"FD001\", param_grid_baseline, \"baseline\")\n",
    "print(results[0]) # print model"
   ]
  },
  {
   "cell_type": "markdown",
   "id": "50e9a3f5-03a9-44a8-862c-f777def83a88",
   "metadata": {},
   "source": [
    "## Removing features"
   ]
  },
  {
   "cell_type": "code",
   "execution_count": 30,
   "id": "43c0f76d-46d5-4d21-b3d7-18b5195fcba1",
   "metadata": {},
   "outputs": [
    {
     "name": "stdout",
     "output_type": "stream",
     "text": [
      "Columns to remove: ['operational_setting_3', 'sensor_1', 'sensor_5', 'sensor_10', 'sensor_16', 'sensor_18', 'sensor_19']\n",
      "['operational_setting_3', 'sensor_1', 'sensor_5', 'sensor_10', 'sensor_16', 'sensor_18', 'sensor_19']\n"
     ]
    }
   ],
   "source": [
    "def columns_to_remove(df, threshold=0.0001):\n",
    "    \"\"\"\n",
    "   Return columns to remove from the DataFrame that have a standard deviation less than the specified threshold.\n",
    "\n",
    "    Parameters:\n",
    "    - df (pd.DataFrame): The DataFrame from which to remove low variation columns.\n",
    "    - threshold (float): The threshold for the standard deviation below which columns will be removed.\n",
    "\n",
    "    Returns:\n",
    "    - pd.DataFrame: A DataFrame with the low variation columns removed.\n",
    "    \"\"\"\n",
    "    # Calculate standard deviation for each column\n",
    "    std_dev = df.std()\n",
    "\n",
    "    # Filter out columns where the standard deviation is below the threshold\n",
    "    columns_to_remove = df.loc[:, std_dev <= threshold].columns.tolist()\n",
    "\n",
    "    # Print the remaining columns\n",
    "    print(\"Columns to remove:\", columns_to_remove)\n",
    "\n",
    "    return columns_to_remove\n",
    "\n",
    "print(columns_to_remove(FD001_train))"
   ]
  },
  {
   "cell_type": "code",
   "execution_count": null,
   "id": "1aa5ae4d-6560-4c0b-9399-7ab06fa4322c",
   "metadata": {},
   "outputs": [],
   "source": [
    "columns_to_drop = columns_to_drop = columns_to_remove(FD001_train)\n",
    "param_grid_baseline_features_removed = {\n",
    "    \"model_cls\": LSTMModel,\n",
    "    \"model_params\": {\n",
    "            \"lstm_hidden_sizes\":   [128, 64, 32],\n",
    "            \"fc_hidden_sizes\": [64, 128],\n",
    "            \"output_size\": 1,\n",
    "            \"activation\": nn.ReLU,\n",
    "            \"dropout\": 0.0,\n",
    "        },\n",
    "    \"scaler_cls\": StandardScaler,\n",
    "    \"window_size\": 30,\n",
    "    \"stride\": 1,\n",
    "    \"batch_size\": 128,\n",
    "    \"initial_rul\": 0,\n",
    "    \"optimizer_cls\": optim.Adam,\n",
    "    \"lr\": 0.001,\n",
    "    \"num_epochs\": 10,\n",
    "    \"columns_to_drop\": columns_to_drop\n",
    "}\n",
    "results = grid_search(\"FD001\", param_grid_baseline_features_removed, \"baseline_features_removed\")"
   ]
  },
  {
   "cell_type": "markdown",
   "id": "d3eb06d6-19b6-4cca-bd81-e42be24b7637",
   "metadata": {},
   "source": [
    "## piece-wise-RUL"
   ]
  },
  {
   "cell_type": "code",
   "execution_count": null,
   "id": "515d7824-e3fc-4dab-851c-19fafb63854a",
   "metadata": {},
   "outputs": [],
   "source": [
    "columns_to_drop = columns_to_drop = columns_to_remove(FD001_train)\n",
    "param_grid_baseline_rul_piecewise = {\n",
    "    \"model_cls\": LSTMModel,\n",
    "    \"model_params\": {\n",
    "            \"lstm_hidden_sizes\":   [128, 64, 32],\n",
    "            \"fc_hidden_sizes\": [64, 128],\n",
    "            \"output_size\": 1,\n",
    "            \"activation\": nn.ReLU,\n",
    "            \"dropout\": 0.0,\n",
    "        },\n",
    "    \"scaler_cls\": StandardScaler,\n",
    "    \"window_size\": 30,\n",
    "    \"stride\": 1,\n",
    "    \"batch_size\": 128,\n",
    "    \"initial_rul\": 125, # Set initial rul for piece-wise RUL\n",
    "    \"optimizer_cls\": optim.Adam,\n",
    "    \"lr\": 0.001,\n",
    "    \"num_epochs\": 10,\n",
    "    \"columns_to_drop\": columns_to_drop\n",
    "}\n",
    "\n",
    "\n",
    "result = grid_search(\"FD001\", param_grid_baseline_rul_piecewise, \"baseline_features_removed_and_rul_piecewise\")\n",
    "    "
   ]
  },
  {
   "cell_type": "markdown",
   "id": "552e2270-5bf9-4e7b-9f88-ee48e7ba0ced",
   "metadata": {},
   "source": [
    "# Baselines "
   ]
  },
  {
   "cell_type": "code",
   "execution_count": 5,
   "id": "d9fa49d6-e947-4bf1-88f6-c18319a3e6c9",
   "metadata": {},
   "outputs": [],
   "source": [
    "import matplotlib.pyplot as plt\n",
    "\n",
    "%matplotlib inline\n",
    "def plot_results(predicted_rul, real_rul):\n",
    "\n",
    "    real_rul = real_rul.values.reshape(-1)\n",
    "    \n",
    "    # Calculate limits for the diagonal line\n",
    "    min_val = min(min(real_rul), min(predicted_rul))\n",
    "    max_val = max(max(real_rul), max(predicted_rul))\n",
    "    \n",
    "    plt.figure(figsize=(12, 6))\n",
    "    plt.scatter(real_rul, predicted_rul, label='Data points')\n",
    "    plt.plot([min_val, max_val], [min_val, max_val], 'r--', label='Perfect prediction')  # Red diagonal line\n",
    "    plt.legend()\n",
    "    plt.title(\"Predicted RUL vs. real RUL\")\n",
    "    plt.xlabel(\"Predicted RUL\")\n",
    "    plt.ylabel(\"Real RUL\")\n",
    "    plt.show()"
   ]
  },
  {
   "cell_type": "markdown",
   "id": "e8e2c5b9-3d46-4b4f-97cc-936fc7534256",
   "metadata": {},
   "source": [
    "## FD001"
   ]
  },
  {
   "cell_type": "code",
   "execution_count": null,
   "id": "b596e020-35ae-4513-b9b3-23b2e824f1fa",
   "metadata": {},
   "outputs": [],
   "source": [
    "columns_to_drop = columns_to_remove(FD001_train)\n",
    "param_grid_baseline_rul_piecewise = {\n",
    "    \"model_cls\": LSTMModel,\n",
    "    \"model_params\": {\n",
    "            \"lstm_hidden_sizes\":   [128, 64, 32],\n",
    "            \"fc_hidden_sizes\": [64, 128],\n",
    "            \"output_size\": 1,\n",
    "            \"activation\": nn.ReLU,\n",
    "            \"dropout\": 0.0,\n",
    "        },\n",
    "    \"scaler_cls\": StandardScaler,\n",
    "    \"window_size\": 30,\n",
    "    \"stride\": 1,\n",
    "    \"batch_size\": 128,\n",
    "    \"initial_rul\": 125, # Set initial rul for piece-wise RUL\n",
    "    \"optimizer_cls\": optim.Adam,\n",
    "    \"lr\": 0.001,\n",
    "    \"num_epochs\": 10,\n",
    "    \"columns_to_drop\": columns_to_drop\n",
    "}\n",
    "\n",
    "\n",
    "result_1 = grid_search(\"FD001\", param_grid_baseline_rul_piecewise, \"baseline\")\n",
    "    "
   ]
  },
  {
   "cell_type": "code",
   "execution_count": null,
   "id": "5e7adaec-fc3f-49ba-9a71-3e7a7047d79d",
   "metadata": {},
   "outputs": [],
   "source": [
    "output_1 = result_1[4].to('cpu')\n",
    "plot_results(output_1, FD001_test_targets)"
   ]
  },
  {
   "cell_type": "markdown",
   "id": "ac406508-5d7b-49c7-b368-111ab60ee735",
   "metadata": {},
   "source": [
    "## FD002"
   ]
  },
  {
   "cell_type": "code",
   "execution_count": 34,
   "id": "17860415-dcba-4f5b-8a8a-041945e1f745",
   "metadata": {},
   "outputs": [
    {
     "data": {
      "text/html": [
       "<div class=\"tuneStatus\">\n",
       "  <div style=\"display: flex;flex-direction: row\">\n",
       "    <div style=\"display: flex;flex-direction: column;\">\n",
       "      <h3>Tune Status</h3>\n",
       "      <table>\n",
       "<tbody>\n",
       "<tr><td>Current time:</td><td>2024-06-01 19:51:29</td></tr>\n",
       "<tr><td>Running for: </td><td>00:01:42.44        </td></tr>\n",
       "<tr><td>Memory:      </td><td>14.5/503.0 GiB     </td></tr>\n",
       "</tbody>\n",
       "</table>\n",
       "    </div>\n",
       "    <div class=\"vDivider\"></div>\n",
       "    <div class=\"systemInfo\">\n",
       "      <h3>System Info</h3>\n",
       "      Using AsyncHyperBand: num_stopped=0<br>Bracket: Iter 8.000: None | Iter 4.000: None | Iter 2.000: None | Iter 1.000: -22.159089897650304<br>Logical resource usage: 8.0/8 CPUs, 1.0/1 GPUs (0.0/1.0 accelerator_type:A100)\n",
       "    </div>\n",
       "    \n",
       "  </div>\n",
       "  <div class=\"hDivider\"></div>\n",
       "  <div class=\"trialStatus\">\n",
       "    <h3>Trial Status</h3>\n",
       "    <table>\n",
       "<thead>\n",
       "<tr><th>Trial name             </th><th>status    </th><th>loc             </th><th style=\"text-align: right;\">  iter</th><th style=\"text-align: right;\">  total time (s)</th><th style=\"text-align: right;\">    mse</th><th style=\"text-align: right;\">   rmse</th><th style=\"text-align: right;\">  score</th></tr>\n",
       "</thead>\n",
       "<tbody>\n",
       "<tr><td>train_model_19d2e_00000</td><td>TERMINATED</td><td>10.42.0.9:446020</td><td style=\"text-align: right;\">     1</td><td style=\"text-align: right;\">         99.8076</td><td style=\"text-align: right;\">491.025</td><td style=\"text-align: right;\">22.1591</td><td style=\"text-align: right;\">18.6054</td></tr>\n",
       "</tbody>\n",
       "</table>\n",
       "  </div>\n",
       "</div>\n",
       "<style>\n",
       ".tuneStatus {\n",
       "  color: var(--jp-ui-font-color1);\n",
       "}\n",
       ".tuneStatus .systemInfo {\n",
       "  display: flex;\n",
       "  flex-direction: column;\n",
       "}\n",
       ".tuneStatus td {\n",
       "  white-space: nowrap;\n",
       "}\n",
       ".tuneStatus .trialStatus {\n",
       "  display: flex;\n",
       "  flex-direction: column;\n",
       "}\n",
       ".tuneStatus h3 {\n",
       "  font-weight: bold;\n",
       "}\n",
       ".tuneStatus .hDivider {\n",
       "  border-bottom-width: var(--jp-border-width);\n",
       "  border-bottom-color: var(--jp-border-color0);\n",
       "  border-bottom-style: solid;\n",
       "}\n",
       ".tuneStatus .vDivider {\n",
       "  border-left-width: var(--jp-border-width);\n",
       "  border-left-color: var(--jp-border-color0);\n",
       "  border-left-style: solid;\n",
       "  margin: 0.5em 1em 0.5em 1em;\n",
       "}\n",
       "</style>\n"
      ],
      "text/plain": [
       "<IPython.core.display.HTML object>"
      ]
     },
     "metadata": {},
     "output_type": "display_data"
    },
    {
     "name": "stderr",
     "output_type": "stream",
     "text": [
      "2024-06-01 19:51:29,893\tWARNING experiment_state.py:205 -- Experiment state snapshotting has been triggered multiple times in the last 5.0 seconds. A snapshot is forced if `CheckpointConfig(num_to_keep)` is set, and a trial has checkpointed >= `num_to_keep` times since the last snapshot.\n",
      "You may want to consider increasing the `CheckpointConfig(num_to_keep)` or decreasing the frequency of saving checkpoints.\n",
      "You can suppress this error by setting the environment variable TUNE_WARN_EXCESSIVE_EXPERIMENT_CHECKPOINT_SYNC_THRESHOLD_S to a smaller value than the current threshold (5.0).\n",
      "2024-06-01 19:51:29,896\tINFO tune.py:1007 -- Wrote the latest version of all result files and experiment state to '/home/jovyan/ray_results/train_model_2024-06-01_19-49-47' in 0.0076s.\n",
      "2024-06-01 19:51:29,900\tINFO tune.py:1039 -- Total run time: 102.46 seconds (102.43 seconds for the tuning loop).\n"
     ]
    },
    {
     "name": "stdout",
     "output_type": "stream",
     "text": [
      "Best trial RMSE validation loss (average over folds): 22.159089897650304\n",
      "Best trial config: {'model_cls': <class '__main__.LSTMModel'>, 'model_params': {'lstm_hidden_sizes': [128, 64, 32], 'fc_hidden_sizes': [64, 128], 'output_size': 1, 'activation': <class 'torch.nn.modules.activation.ReLU'>, 'dropout': 0.0, 'input_size': 25}, 'scaler_cls': <class 'sklearn.preprocessing._data.StandardScaler'>, 'window_size': 18, 'stride': 1, 'batch_size': 128, 'initial_rul': 125, 'optimizer_cls': <class 'torch.optim.adam.Adam'>, 'lr': 0.001, 'num_epochs': 10, 'columns_to_drop': []}\n",
      "Epoch 1/10, Train Loss: 2498.339490188836\n",
      "Epoch 2/10, Train Loss: 1753.0432448313027\n",
      "Epoch 3/10, Train Loss: 1754.2361326860023\n",
      "Epoch 4/10, Train Loss: 1104.0132355368817\n",
      "Epoch 5/10, Train Loss: 499.80688081257085\n",
      "Epoch 6/10, Train Loss: 461.80610300963406\n",
      "Epoch 7/10, Train Loss: 440.0105619677608\n",
      "Epoch 8/10, Train Loss: 420.74269728586466\n",
      "Epoch 9/10, Train Loss: 413.97385378822764\n",
      "Epoch 10/10, Train Loss: 394.9103170997738\n",
      "Test Loss MSE: 1309.5107638679417 |  RMSE: 36.18716297069918 | Score: 247.5346342790081\n",
      "Final model saved at results/FD002_baseline.pth\n",
      "Results saved at results/FD002_baseline.json\n"
     ]
    }
   ],
   "source": [
    "columns_to_drop = columns_to_remove(FD002_train)\n",
    "param_grid_baseline_rul_piecewise = {\n",
    "    \"model_cls\": LSTMModel,\n",
    "    \"model_params\": {\n",
    "            \"lstm_hidden_sizes\":   [128, 64, 32],\n",
    "            \"fc_hidden_sizes\": [64, 128],\n",
    "            \"output_size\": 1,\n",
    "            \"activation\": nn.ReLU,\n",
    "            \"dropout\": 0.0,\n",
    "        },\n",
    "    \"scaler_cls\": StandardScaler,\n",
    "    \"window_size\": 18,\n",
    "    \"stride\": 1,\n",
    "    \"batch_size\": 128,\n",
    "    \"initial_rul\": 125, # Set initial rul for piece-wise RUL\n",
    "    \"optimizer_cls\": optim.Adam,\n",
    "    \"lr\": 0.001,\n",
    "    \"num_epochs\": 10,\n",
    "    \"columns_to_drop\": columns_to_drop\n",
    "}\n",
    "\n",
    "\n",
    "result_2 = grid_search(\"FD002\", param_grid_baseline_rul_piecewise, \"baseline\")"
   ]
  },
  {
   "cell_type": "code",
   "execution_count": 36,
   "id": "1c6f6da9-2ffc-46b9-8c25-9ec43be85d18",
   "metadata": {},
   "outputs": [
    {
     "data": {
      "image/png": "[encoded data removed]",
      "text/plain": [
       "<Figure size 1200x600 with 1 Axes>"
      ]
     },
     "metadata": {},
     "output_type": "display_data"
    }
   ],
   "source": [
    "output_2 = result_2[4].to('cpu')\n",
    "plot_results(output_2, FD002_test_targets)"
   ]
  },
  {
   "cell_type": "markdown",
   "id": "ef9fa184-711f-434f-9f39-d09f4dde7262",
   "metadata": {},
   "source": [
    "## FD003 "
   ]
  },
  {
   "cell_type": "code",
   "execution_count": 37,
   "id": "f5b4a0f2-398b-4c6f-ad69-d2109e6500fb",
   "metadata": {},
   "outputs": [
    {
     "data": {
      "text/html": [
       "<div class=\"tuneStatus\">\n",
       "  <div style=\"display: flex;flex-direction: row\">\n",
       "    <div style=\"display: flex;flex-direction: column;\">\n",
       "      <h3>Tune Status</h3>\n",
       "      <table>\n",
       "<tbody>\n",
       "<tr><td>Current time:</td><td>2024-06-01 19:52:42</td></tr>\n",
       "<tr><td>Running for: </td><td>00:00:54.73        </td></tr>\n",
       "<tr><td>Memory:      </td><td>14.5/503.0 GiB     </td></tr>\n",
       "</tbody>\n",
       "</table>\n",
       "    </div>\n",
       "    <div class=\"vDivider\"></div>\n",
       "    <div class=\"systemInfo\">\n",
       "      <h3>System Info</h3>\n",
       "      Using AsyncHyperBand: num_stopped=0<br>Bracket: Iter 8.000: None | Iter 4.000: None | Iter 2.000: None | Iter 1.000: -16.78329368417213<br>Logical resource usage: 8.0/8 CPUs, 1.0/1 GPUs (0.0/1.0 accelerator_type:A100)\n",
       "    </div>\n",
       "    \n",
       "  </div>\n",
       "  <div class=\"hDivider\"></div>\n",
       "  <div class=\"trialStatus\">\n",
       "    <h3>Trial Status</h3>\n",
       "    <table>\n",
       "<thead>\n",
       "<tr><th>Trial name             </th><th>status    </th><th>loc             </th><th style=\"text-align: right;\">  iter</th><th style=\"text-align: right;\">  total time (s)</th><th style=\"text-align: right;\">    mse</th><th style=\"text-align: right;\">   rmse</th><th style=\"text-align: right;\">  score</th></tr>\n",
       "</thead>\n",
       "<tbody>\n",
       "<tr><td>train_model_617e2_00000</td><td>TERMINATED</td><td>10.42.0.9:504935</td><td style=\"text-align: right;\">     1</td><td style=\"text-align: right;\">         52.0669</td><td style=\"text-align: right;\">281.679</td><td style=\"text-align: right;\">16.7833</td><td style=\"text-align: right;\">7.30731</td></tr>\n",
       "</tbody>\n",
       "</table>\n",
       "  </div>\n",
       "</div>\n",
       "<style>\n",
       ".tuneStatus {\n",
       "  color: var(--jp-ui-font-color1);\n",
       "}\n",
       ".tuneStatus .systemInfo {\n",
       "  display: flex;\n",
       "  flex-direction: column;\n",
       "}\n",
       ".tuneStatus td {\n",
       "  white-space: nowrap;\n",
       "}\n",
       ".tuneStatus .trialStatus {\n",
       "  display: flex;\n",
       "  flex-direction: column;\n",
       "}\n",
       ".tuneStatus h3 {\n",
       "  font-weight: bold;\n",
       "}\n",
       ".tuneStatus .hDivider {\n",
       "  border-bottom-width: var(--jp-border-width);\n",
       "  border-bottom-color: var(--jp-border-color0);\n",
       "  border-bottom-style: solid;\n",
       "}\n",
       ".tuneStatus .vDivider {\n",
       "  border-left-width: var(--jp-border-width);\n",
       "  border-left-color: var(--jp-border-color0);\n",
       "  border-left-style: solid;\n",
       "  margin: 0.5em 1em 0.5em 1em;\n",
       "}\n",
       "</style>\n"
      ],
      "text/plain": [
       "<IPython.core.display.HTML object>"
      ]
     },
     "metadata": {},
     "output_type": "display_data"
    },
    {
     "name": "stderr",
     "output_type": "stream",
     "text": [
      "2024-06-01 19:52:42,416\tWARNING experiment_state.py:205 -- Experiment state snapshotting has been triggered multiple times in the last 5.0 seconds. A snapshot is forced if `CheckpointConfig(num_to_keep)` is set, and a trial has checkpointed >= `num_to_keep` times since the last snapshot.\n",
      "You may want to consider increasing the `CheckpointConfig(num_to_keep)` or decreasing the frequency of saving checkpoints.\n",
      "You can suppress this error by setting the environment variable TUNE_WARN_EXCESSIVE_EXPERIMENT_CHECKPOINT_SYNC_THRESHOLD_S to a smaller value than the current threshold (5.0).\n",
      "2024-06-01 19:52:42,420\tINFO tune.py:1007 -- Wrote the latest version of all result files and experiment state to '/home/jovyan/ray_results/train_model_2024-06-01_19-51-47' in 0.0084s.\n",
      "2024-06-01 19:52:42,425\tINFO tune.py:1039 -- Total run time: 54.74 seconds (54.72 seconds for the tuning loop).\n"
     ]
    },
    {
     "name": "stdout",
     "output_type": "stream",
     "text": [
      "Best trial RMSE validation loss (average over folds): 16.78329368417213\n",
      "Best trial config: {'model_cls': <class '__main__.LSTMModel'>, 'model_params': {'lstm_hidden_sizes': [128, 64, 32], 'fc_hidden_sizes': [64, 128], 'output_size': 1, 'activation': <class 'torch.nn.modules.activation.ReLU'>, 'dropout': 0.0, 'input_size': 19}, 'scaler_cls': <class 'sklearn.preprocessing._data.StandardScaler'>, 'window_size': 30, 'stride': 1, 'batch_size': 128, 'initial_rul': 125, 'optimizer_cls': <class 'torch.optim.adam.Adam'>, 'lr': 0.001, 'num_epochs': 10, 'columns_to_drop': ['operational_setting_3', 'sensor_1', 'sensor_5', 'sensor_16', 'sensor_18', 'sensor_19']}\n",
      "Epoch 1/10, Train Loss: 3660.6615839729534\n",
      "Epoch 2/10, Train Loss: 1145.4616759004648\n",
      "Epoch 3/10, Train Loss: 213.71100875229862\n",
      "Epoch 4/10, Train Loss: 159.44806363289817\n",
      "Epoch 5/10, Train Loss: 125.29101647271051\n",
      "Epoch 6/10, Train Loss: 102.2980963277538\n",
      "Epoch 7/10, Train Loss: 87.75148994044254\n",
      "Epoch 8/10, Train Loss: 81.60488175509269\n",
      "Epoch 9/10, Train Loss: 70.31230353193673\n",
      "Epoch 10/10, Train Loss: 61.4754167077137\n",
      "Test Loss MSE: 939.1087036132812 |  RMSE: 30.64488054493411 | Score: 26.382150650024414\n",
      "Final model saved at results/FD003_baseline.pth\n",
      "Results saved at results/FD003_baseline.json\n"
     ]
    }
   ],
   "source": [
    "columns_to_drop = columns_to_remove(FD003_train)\n",
    "param_grid_baseline_rul_piecewise = {\n",
    "    \"model_cls\": LSTMModel,\n",
    "    \"model_params\": {\n",
    "            \"lstm_hidden_sizes\":   [128, 64, 32],\n",
    "            \"fc_hidden_sizes\": [64, 128],\n",
    "            \"output_size\": 1,\n",
    "            \"activation\": nn.ReLU,\n",
    "            \"dropout\": 0.0,\n",
    "        },\n",
    "    \"scaler_cls\": StandardScaler,\n",
    "    \"window_size\": 30,\n",
    "    \"stride\": 1,\n",
    "    \"batch_size\": 128,\n",
    "    \"initial_rul\": 125, # Set initial rul for piece-wise RUL\n",
    "    \"optimizer_cls\": optim.Adam,\n",
    "    \"lr\": 0.001,\n",
    "    \"num_epochs\": 10,\n",
    "    \"columns_to_drop\": columns_to_drop\n",
    "}\n",
    "\n",
    "\n",
    "result_3 = grid_search(\"FD003\", param_grid_baseline_rul_piecewise, \"baseline\")\n"
   ]
  },
  {
   "cell_type": "code",
   "execution_count": 38,
   "id": "1659ea26-15c2-479a-8c50-542322a42740",
   "metadata": {},
   "outputs": [
    {
     "data": {
      "image/png": "[encoded data removed]",
      "text/plain": [
       "<Figure size 1200x600 with 1 Axes>"
      ]
     },
     "metadata": {},
     "output_type": "display_data"
    }
   ],
   "source": [
    "output_3 = result_3[4].to('cpu')\n",
    "plot_results(output_3, FD003_test_targets)"
   ]
  },
  {
   "cell_type": "markdown",
   "id": "ba00e271-9370-484c-8924-2a2a4acf6749",
   "metadata": {},
   "source": [
    "## FD004"
   ]
  },
  {
   "cell_type": "code",
   "execution_count": 39,
   "id": "c41967f1-2395-4775-87fa-f834fdf418f6",
   "metadata": {},
   "outputs": [
    {
     "data": {
      "text/html": [
       "<div class=\"tuneStatus\">\n",
       "  <div style=\"display: flex;flex-direction: row\">\n",
       "    <div style=\"display: flex;flex-direction: column;\">\n",
       "      <h3>Tune Status</h3>\n",
       "      <table>\n",
       "<tbody>\n",
       "<tr><td>Current time:</td><td>2024-06-01 19:54:34</td></tr>\n",
       "<tr><td>Running for: </td><td>00:01:42.07        </td></tr>\n",
       "<tr><td>Memory:      </td><td>14.6/503.0 GiB     </td></tr>\n",
       "</tbody>\n",
       "</table>\n",
       "    </div>\n",
       "    <div class=\"vDivider\"></div>\n",
       "    <div class=\"systemInfo\">\n",
       "      <h3>System Info</h3>\n",
       "      Using AsyncHyperBand: num_stopped=0<br>Bracket: Iter 8.000: None | Iter 4.000: None | Iter 2.000: None | Iter 1.000: -22.509913082733092<br>Logical resource usage: 8.0/8 CPUs, 1.0/1 GPUs (0.0/1.0 accelerator_type:A100)\n",
       "    </div>\n",
       "    \n",
       "  </div>\n",
       "  <div class=\"hDivider\"></div>\n",
       "  <div class=\"trialStatus\">\n",
       "    <h3>Trial Status</h3>\n",
       "    <table>\n",
       "<thead>\n",
       "<tr><th>Trial name             </th><th>status    </th><th>loc             </th><th style=\"text-align: right;\">  iter</th><th style=\"text-align: right;\">  total time (s)</th><th style=\"text-align: right;\">    mse</th><th style=\"text-align: right;\">   rmse</th><th style=\"text-align: right;\">  score</th></tr>\n",
       "</thead>\n",
       "<tbody>\n",
       "<tr><td>train_model_87d81_00000</td><td>TERMINATED</td><td>10.42.0.9:560597</td><td style=\"text-align: right;\">     1</td><td style=\"text-align: right;\">         99.4892</td><td style=\"text-align: right;\">506.696</td><td style=\"text-align: right;\">22.5099</td><td style=\"text-align: right;\"> 35.431</td></tr>\n",
       "</tbody>\n",
       "</table>\n",
       "  </div>\n",
       "</div>\n",
       "<style>\n",
       ".tuneStatus {\n",
       "  color: var(--jp-ui-font-color1);\n",
       "}\n",
       ".tuneStatus .systemInfo {\n",
       "  display: flex;\n",
       "  flex-direction: column;\n",
       "}\n",
       ".tuneStatus td {\n",
       "  white-space: nowrap;\n",
       "}\n",
       ".tuneStatus .trialStatus {\n",
       "  display: flex;\n",
       "  flex-direction: column;\n",
       "}\n",
       ".tuneStatus h3 {\n",
       "  font-weight: bold;\n",
       "}\n",
       ".tuneStatus .hDivider {\n",
       "  border-bottom-width: var(--jp-border-width);\n",
       "  border-bottom-color: var(--jp-border-color0);\n",
       "  border-bottom-style: solid;\n",
       "}\n",
       ".tuneStatus .vDivider {\n",
       "  border-left-width: var(--jp-border-width);\n",
       "  border-left-color: var(--jp-border-color0);\n",
       "  border-left-style: solid;\n",
       "  margin: 0.5em 1em 0.5em 1em;\n",
       "}\n",
       "</style>\n"
      ],
      "text/plain": [
       "<IPython.core.display.HTML object>"
      ]
     },
     "metadata": {},
     "output_type": "display_data"
    },
    {
     "name": "stderr",
     "output_type": "stream",
     "text": [
      "2024-06-01 19:54:34,110\tWARNING experiment_state.py:205 -- Experiment state snapshotting has been triggered multiple times in the last 5.0 seconds. A snapshot is forced if `CheckpointConfig(num_to_keep)` is set, and a trial has checkpointed >= `num_to_keep` times since the last snapshot.\n",
      "You may want to consider increasing the `CheckpointConfig(num_to_keep)` or decreasing the frequency of saving checkpoints.\n",
      "You can suppress this error by setting the environment variable TUNE_WARN_EXCESSIVE_EXPERIMENT_CHECKPOINT_SYNC_THRESHOLD_S to a smaller value than the current threshold (5.0).\n",
      "2024-06-01 19:54:34,113\tINFO tune.py:1007 -- Wrote the latest version of all result files and experiment state to '/home/jovyan/ray_results/train_model_2024-06-01_19-52-52' in 0.0108s.\n",
      "2024-06-01 19:54:34,116\tINFO tune.py:1039 -- Total run time: 102.09 seconds (102.06 seconds for the tuning loop).\n"
     ]
    },
    {
     "name": "stdout",
     "output_type": "stream",
     "text": [
      "Best trial RMSE validation loss (average over folds): 22.509913082733092\n",
      "Best trial config: {'model_cls': <class '__main__.LSTMModel'>, 'model_params': {'lstm_hidden_sizes': [128, 64, 32], 'fc_hidden_sizes': [64, 128], 'output_size': 1, 'activation': <class 'torch.nn.modules.activation.ReLU'>, 'dropout': 0.0, 'input_size': 25}, 'scaler_cls': <class 'sklearn.preprocessing._data.StandardScaler'>, 'window_size': 18, 'stride': 1, 'batch_size': 128, 'initial_rul': 125, 'optimizer_cls': <class 'torch.optim.adam.Adam'>, 'lr': 0.001, 'num_epochs': 10, 'columns_to_drop': []}\n",
      "Epoch 1/10, Train Loss: 2462.60524130509\n",
      "Epoch 2/10, Train Loss: 1699.2266747171034\n",
      "Epoch 3/10, Train Loss: 1427.7712974377278\n",
      "Epoch 4/10, Train Loss: 534.6689184898753\n",
      "Epoch 5/10, Train Loss: 485.0833299576969\n",
      "Epoch 6/10, Train Loss: 467.3291617081304\n",
      "Epoch 7/10, Train Loss: 444.20079512660277\n",
      "Epoch 8/10, Train Loss: 419.88880342218374\n",
      "Epoch 9/10, Train Loss: 409.4073282763562\n",
      "Epoch 10/10, Train Loss: 394.03281559965535\n",
      "Test Loss MSE: 1899.6255906628023 |  RMSE: 43.58469445416363 | Score: 313.46212276335683\n",
      "Final model saved at results/FD004_baseline.pth\n",
      "Results saved at results/FD004_baseline.json\n"
     ]
    }
   ],
   "source": [
    "columns_to_drop = columns_to_remove(FD004_train)\n",
    "param_grid_baseline_rul_piecewise = {\n",
    "    \"model_cls\": LSTMModel,\n",
    "    \"model_params\": {\n",
    "            \"lstm_hidden_sizes\":   [128, 64, 32],\n",
    "            \"fc_hidden_sizes\": [64, 128],\n",
    "            \"output_size\": 1,\n",
    "            \"activation\": nn.ReLU,\n",
    "            \"dropout\": 0.0,\n",
    "        },\n",
    "    \"scaler_cls\": StandardScaler,\n",
    "    \"window_size\": 18,\n",
    "    \"stride\": 1,\n",
    "    \"batch_size\": 128,\n",
    "    \"initial_rul\": 125, # Set initial rul for piece-wise RUL\n",
    "    \"optimizer_cls\": optim.Adam,\n",
    "    \"lr\": 0.001,\n",
    "    \"num_epochs\": 10,\n",
    "    \"columns_to_drop\": columns_to_drop\n",
    "}\n",
    "\n",
    "\n",
    "result_4 = grid_search(\"FD004\", param_grid_baseline_rul_piecewise, \"baseline\")"
   ]
  },
  {
   "cell_type": "code",
   "execution_count": 40,
   "id": "6ee2b8d4-1edb-45a0-a04e-8cd2ec91d4d8",
   "metadata": {},
   "outputs": [
    {
     "data": {
      "image/png": "[encoded data removed]",
      "text/plain": [
       "<Figure size 1200x600 with 1 Axes>"
      ]
     },
     "metadata": {},
     "output_type": "display_data"
    }
   ],
   "source": [
    "output_4 = result_4[4].to('cpu')\n",
    "plot_results(output_4, FD004_test_targets)"
   ]
  },
  {
   "cell_type": "markdown",
   "id": "609947f0-ab5c-46eb-88d5-12462c877ba9",
   "metadata": {},
   "source": [
    "## Grid search LSTM\n",
    "We planned to do a proper grid search. However, we were unable to conduct it due to time constraints. Especially when increasing the number of epochs and for the larger datasets, A grid search for one datasets already takes up at least an hour...."
   ]
  },
  {
   "cell_type": "code",
   "execution_count": null,
   "id": "025cf135-bdf2-48e7-9de9-8a8e7ec0d722",
   "metadata": {},
   "outputs": [],
   "source": [
    "columns_to_drop = columns_to_remove(FD001_train)\n",
    "param_grid_lstm = {\n",
    "    \"model_cls\": LSTMModel,\n",
    "    \"model_params\": {\n",
    "            \"lstm_hidden_sizes\":  tune.grid_search([[128, 64, 32], [64, 32]] ),\n",
    "            \"fc_hidden_sizes\": tune.grid_search([[64, 128], [32, 64, 128]]),\n",
    "            \"output_size\": 1,\n",
    "            \"activation\": nn.ReLU,\n",
    "            \"dropout\": tune.grid_search([0.0, 0.3]),\n",
    "        },\n",
    "    \"scaler_cls\": tune.grid_search([[StandardScaler, MinMaxScaler]]),\n",
    "    \"window_size\": tune.grid_search([30, 15]),\n",
    "    \"stride\": 1,\n",
    "    \"batch_size\": tune.grid_search([128]),\n",
    "    \"initial_rul\": tune.grid_search([125]),\n",
    "    \"optimizer_cls\": optim.Adam,\n",
    "    \"lr\": tune.grid_search([0.001, 0.0001]),\n",
    "    \"num_epochs\": tune.grid_search([10, 20]),\n",
    "    \"columns_to_drop\": tune.grid_search([columns_to_drop])\n",
    "}\n",
    "results = grid_search(\"FD001\", param_grid_lstm, \"lstm\")"
   ]
  },
  {
   "cell_type": "code",
   "execution_count": null,
   "id": "b5e58721-28a4-4b76-a1f6-2a55e149098f",
   "metadata": {},
   "outputs": [],
   "source": [
    "columns_to_drop = columns_to_remove(FD002_train)\n",
    "param_grid_lstm = {\n",
    "    \"model_cls\": LSTMModel,\n",
    "    \"model_params\": {\n",
    "            \"lstm_hidden_sizes\":  tune.grid_search([[128, 64, 32], [64, 32]] ),\n",
    "            \"fc_hidden_sizes\": tune.grid_search([[64, 128], [32, 64, 128]]),\n",
    "            \"output_size\": 1,\n",
    "            \"activation\": nn.ReLU,\n",
    "            \"dropout\": tune.grid_search([0.0, 0.3]),\n",
    "        },\n",
    "    \"scaler_cls\": tune.grid_search([[StandardScaler, MinMaxScaler]]),\n",
    "    \"window_size\": tune.grid_search([20]),\n",
    "    \"stride\": 1,\n",
    "    \"batch_size\": tune.grid_search([128]),\n",
    "    \"initial_rul\": tune.grid_search([125]),\n",
    "    \"optimizer_cls\": optim.Adam,\n",
    "    \"lr\": tune.grid_search([0.001, 0.0001]),\n",
    "    \"num_epochs\": tune.grid_search([10, 30]),\n",
    "    \"columns_to_drop\": tune.grid_search([columns_to_drop])\n",
    "}\n",
    "results = grid_search(\"FD002\", param_grid_lstm, \"lstm\")"
   ]
  },
  {
   "cell_type": "code",
   "execution_count": null,
   "id": "f0e57776-3a76-4dd1-a357-54486534ad6e",
   "metadata": {},
   "outputs": [],
   "source": [
    "columns_to_drop = columns_to_remove(FD003_train)\n",
    "param_grid_lstm = {\n",
    "    \"model_cls\": LSTMModel,\n",
    "    \"model_params\": {\n",
    "            \"lstm_hidden_sizes\":  tune.grid_search([[128, 64, 32], [64, 32]] ),\n",
    "            \"fc_hidden_sizes\": tune.grid_search([[64, 128], [32, 64, 128]]),\n",
    "            \"output_size\": 1,\n",
    "            \"activation\": nn.ReLU,\n",
    "            \"dropout\": tune.grid_search([0.0, 0.3]),\n",
    "        },\n",
    "    \"scaler_cls\": tune.grid_search([[StandardScaler, MinMaxScaler]]),\n",
    "    \"window_size\": tune.grid_search([30]),\n",
    "    \"stride\": 1,\n",
    "    \"batch_size\": tune.grid_search([128]),\n",
    "    \"initial_rul\": tune.grid_search([125]),\n",
    "    \"optimizer_cls\": optim.Adam,\n",
    "    \"lr\": tune.grid_search([0.001, 0.0001]),\n",
    "    \"num_epochs\": tune.grid_search([10, 30]),\n",
    "    \"columns_to_drop\": tune.grid_search([columns_to_drop])\n",
    "}\n",
    "results = grid_search(\"FD003\", param_grid_lstm, \"lstm\")"
   ]
  },
  {
   "cell_type": "code",
   "execution_count": null,
   "id": "5bba0316-202a-42a9-b64a-abf75ab9e481",
   "metadata": {},
   "outputs": [],
   "source": [
    "columns_to_drop = columns_to_remove(FD004_train)\n",
    "param_grid_lstm = {\n",
    "    \"model_cls\": LSTMModel,\n",
    "    \"model_params\": {\n",
    "            \"lstm_hidden_sizes\":  tune.grid_search([[128, 64, 32], [64, 32]] ),\n",
    "            \"fc_hidden_sizes\": tune.grid_search([[64, 128], [32, 64, 128]]),\n",
    "            \"output_size\": 1,\n",
    "            \"activation\": nn.ReLU,\n",
    "            \"dropout\": tune.grid_search([0.0, 0.3]),\n",
    "        },\n",
    "    \"scaler_cls\": tune.grid_search([[StandardScaler, MinMaxScaler]]),\n",
    "    \"window_size\": tune.grid_search([19]),\n",
    "    \"stride\": 1,\n",
    "    \"batch_size\": tune.grid_search([128]),\n",
    "    \"initial_rul\": tune.grid_search([125]),\n",
    "    \"optimizer_cls\": optim.Adam,\n",
    "    \"lr\": tune.grid_search([0.001, 0.0001]),\n",
    "    \"num_epochs\": tune.grid_search([10, 30]),\n",
    "    \"columns_to_drop\": tune.grid_search([columns_to_drop])\n",
    "}\n",
    "results = grid_search(\"FD004\", param_grid_lstm, \"lstm\")"
   ]
  },
  {
   "cell_type": "markdown",
   "id": "ce5669fd-cc3f-4fa6-a50a-ffa393f978d4",
   "metadata": {},
   "source": [
    "# HDNN Model"
   ]
  },
  {
   "cell_type": "markdown",
   "id": "2838d02f-f7b3-41ff-9617-5d28303e5a58",
   "metadata": {},
   "source": [
    "The HDNN model already didn't perform very well on FD001 so we didn't test it on the other datasets."
   ]
  },
  {
   "cell_type": "code",
   "execution_count": 48,
   "id": "682a175a-7794-4a98-ad1b-a027341ffc46",
   "metadata": {},
   "outputs": [
    {
     "data": {
      "text/html": [
       "<div class=\"tuneStatus\">\n",
       "  <div style=\"display: flex;flex-direction: row\">\n",
       "    <div style=\"display: flex;flex-direction: column;\">\n",
       "      <h3>Tune Status</h3>\n",
       "      <table>\n",
       "<tbody>\n",
       "<tr><td>Current time:</td><td>2024-06-01 20:21:53</td></tr>\n",
       "<tr><td>Running for: </td><td>00:05:41.97        </td></tr>\n",
       "<tr><td>Memory:      </td><td>14.9/503.0 GiB     </td></tr>\n",
       "</tbody>\n",
       "</table>\n",
       "    </div>\n",
       "    <div class=\"vDivider\"></div>\n",
       "    <div class=\"systemInfo\">\n",
       "      <h3>System Info</h3>\n",
       "      Using AsyncHyperBand: num_stopped=0<br>Bracket: Iter 8.000: None | Iter 4.000: None | Iter 2.000: None | Iter 1.000: -41.2579695178591<br>Logical resource usage: 8.0/8 CPUs, 1.0/1 GPUs (0.0/1.0 accelerator_type:A100)\n",
       "    </div>\n",
       "    \n",
       "  </div>\n",
       "  <div class=\"hDivider\"></div>\n",
       "  <div class=\"trialStatus\">\n",
       "    <h3>Trial Status</h3>\n",
       "    <table>\n",
       "<thead>\n",
       "<tr><th>Trial name             </th><th>status    </th><th>loc              </th><th style=\"text-align: right;\">  iter</th><th style=\"text-align: right;\">  total time (s)</th><th style=\"text-align: right;\">    mse</th><th style=\"text-align: right;\">  rmse</th><th style=\"text-align: right;\">  score</th></tr>\n",
       "</thead>\n",
       "<tbody>\n",
       "<tr><td>train_model_ca2e1_00000</td><td>TERMINATED</td><td>10.42.0.9:1559586</td><td style=\"text-align: right;\">     1</td><td style=\"text-align: right;\">         339.303</td><td style=\"text-align: right;\">1702.22</td><td style=\"text-align: right;\">41.258</td><td style=\"text-align: right;\"> 188.51</td></tr>\n",
       "</tbody>\n",
       "</table>\n",
       "  </div>\n",
       "</div>\n",
       "<style>\n",
       ".tuneStatus {\n",
       "  color: var(--jp-ui-font-color1);\n",
       "}\n",
       ".tuneStatus .systemInfo {\n",
       "  display: flex;\n",
       "  flex-direction: column;\n",
       "}\n",
       ".tuneStatus td {\n",
       "  white-space: nowrap;\n",
       "}\n",
       ".tuneStatus .trialStatus {\n",
       "  display: flex;\n",
       "  flex-direction: column;\n",
       "}\n",
       ".tuneStatus h3 {\n",
       "  font-weight: bold;\n",
       "}\n",
       ".tuneStatus .hDivider {\n",
       "  border-bottom-width: var(--jp-border-width);\n",
       "  border-bottom-color: var(--jp-border-color0);\n",
       "  border-bottom-style: solid;\n",
       "}\n",
       ".tuneStatus .vDivider {\n",
       "  border-left-width: var(--jp-border-width);\n",
       "  border-left-color: var(--jp-border-color0);\n",
       "  border-left-style: solid;\n",
       "  margin: 0.5em 1em 0.5em 1em;\n",
       "}\n",
       "</style>\n"
      ],
      "text/plain": [
       "<IPython.core.display.HTML object>"
      ]
     },
     "metadata": {},
     "output_type": "display_data"
    },
    {
     "name": "stderr",
     "output_type": "stream",
     "text": [
      "2024-06-01 20:21:53,786\tWARNING experiment_state.py:205 -- Experiment state snapshotting has been triggered multiple times in the last 5.0 seconds. A snapshot is forced if `CheckpointConfig(num_to_keep)` is set, and a trial has checkpointed >= `num_to_keep` times since the last snapshot.\n",
      "You may want to consider increasing the `CheckpointConfig(num_to_keep)` or decreasing the frequency of saving checkpoints.\n",
      "You can suppress this error by setting the environment variable TUNE_WARN_EXCESSIVE_EXPERIMENT_CHECKPOINT_SYNC_THRESHOLD_S to a smaller value than the current threshold (5.0).\n",
      "2024-06-01 20:21:53,790\tINFO tune.py:1007 -- Wrote the latest version of all result files and experiment state to '/home/jovyan/ray_results/train_model_2024-06-01_20-16-11' in 0.0143s.\n",
      "2024-06-01 20:21:53,795\tINFO tune.py:1039 -- Total run time: 341.99 seconds (341.95 seconds for the tuning loop).\n"
     ]
    },
    {
     "name": "stdout",
     "output_type": "stream",
     "text": [
      "Best trial RMSE validation loss (average over folds): 41.2579695178591\n",
      "Best trial config: {'model_cls': <class '__main__.HybridDeepNeuralNetwork'>, 'model_params': {'window_size': 30, 'input_size': 15}, 'scaler_cls': <class 'sklearn.preprocessing._data.MinMaxScaler'>, 'window_size': 30, 'stride': 1, 'batch_size': 512, 'initial_rul': 130, 'optimizer_cls': <class 'torch.optim.adam.Adam'>, 'lr': 0.001, 'num_epochs': 100, 'columns_to_drop': ['operational_setting_1', 'operational_setting_2', 'operational_setting_3', 'sensor_1', 'sensor_5', 'sensor_6', 'sensor_10', 'sensor_16', 'sensor_18', 'sensor_19']}\n",
      "Epoch 10/100, Train Loss: 3987.1256696428572\n",
      "Epoch 20/100, Train Loss: 2404.3552664620534\n",
      "Epoch 30/100, Train Loss: 1963.3481828962053\n",
      "Epoch 40/100, Train Loss: 1888.4148716517857\n",
      "Epoch 50/100, Train Loss: 1879.540363420759\n",
      "Epoch 60/100, Train Loss: 1879.34462890625\n",
      "Epoch 70/100, Train Loss: 1876.9640799386161\n",
      "Epoch 80/100, Train Loss: 1878.9490931919643\n",
      "Epoch 90/100, Train Loss: 1880.8091936383928\n",
      "Epoch 100/100, Train Loss: 1014.350341796875\n",
      "Test Loss MSE: 1469.3544921875 |  RMSE: 38.33216002506903 | Score: 49.07550811767578\n",
      "Final model saved at results/FD001_hdnn.pth\n",
      "Results saved at results/FD001_hdnn.json\n"
     ]
    }
   ],
   "source": [
    "columns_to_drop = ['operational_setting_1', 'operational_setting_2', 'operational_setting_3', \n",
    "               'sensor_1', 'sensor_5', 'sensor_6', 'sensor_10', \n",
    "               'sensor_16', 'sensor_18', 'sensor_19']\n",
    "param_grid_hdnn = {\n",
    "    \"model_cls\": HybridDeepNeuralNetwork,\n",
    "    \"model_params\": {\n",
    "            \"window_size\": 30,\n",
    "        },\n",
    "    \"scaler_cls\": MinMaxScaler,\n",
    "    \"window_size\": 30,\n",
    "    \"stride\": 1,\n",
    "    \"batch_size\": 512,\n",
    "    \"initial_rul\": 130,\n",
    "    \"optimizer_cls\": optim.Adam,\n",
    "    \"lr\": 0.001,\n",
    "    \"num_epochs\": 100,\n",
    "    \"columns_to_drop\": columns_to_drop\n",
    "}\n",
    "\n",
    "\n",
    "results = grid_search(\"FD001\", param_grid_hdnn, \"hdnn\")"
   ]
  },
  {
   "cell_type": "code",
   "execution_count": 49,
   "id": "d58acfac-a0d4-4744-8619-cb0ef349e83d",
   "metadata": {},
   "outputs": [
    {
     "data": {
      "image/png": "[encoded data removed]",
      "text/plain": [
       "<Figure size 1200x600 with 1 Axes>"
      ]
     },
     "metadata": {},
     "output_type": "display_data"
    }
   ],
   "source": [
    "output = results[4].to('cpu')\n",
    "plot_results(output, FD001_test_targets)"
   ]
  },
  {
   "cell_type": "markdown",
   "id": "6c72baef-4eb9-44c4-8af1-e621f6dcb94f",
   "metadata": {},
   "source": [
    "# Conclusion \n",
    "- Unfortunately, both models are underperforming and only achieve a RMSE above 30.\n",
    "- The LSTM models perform better on FD001 and FD003 but from our data exploration this was expected since FD002 and FD004 are much more complex and don't exhibit clear trends.\n",
    "- The LSTM seems to be overfitting, since the validation loss is much smaller than the final RMSE of the test set.\n",
    "- Also the HDNN performed worse than the LSTM and is underfitting despite following the architecture of the paper. This could be due to some local minima since the train loss seems to stagnate after 40 training epochs and doesn't improve. Another reason  could be due to some implementation errors and lack of clarity of the paper. E.g., the authors don't include the learning rate or the type of padding used for the CNN. Properly reproducing a paper would require a more careful analysis and understanding of the paper which wasn't possible due to time constraints.\n",
    "- As future steps, more careful hyperparameter tuning and construction of the model could increase the performance. However, there are many factors that contribute to the suboptimal performance. Since training  with 5-fold-cross validation takes a lot of times, it's difficult to test out all the factors and to find the cause.\n",
    "- Also, other feature selection strategies could help to improve the performance. We simply removed constant features, but e.g. Removing features that also have a low correlation to the target RUL."
   ]
  }
 ],
 "metadata": {
  "kernelspec": {
   "display_name": "Python 3 (ipykernel)",
   "language": "python",
   "name": "python3"
  },
  "language_info": {
   "codemirror_mode": {
    "name": "ipython",
    "version": 3
   },
   "file_extension": ".py",
   "mimetype": "text/x-python",
   "name": "python",
   "nbconvert_exporter": "python",
   "pygments_lexer": "ipython3",
   "version": "3.11.8"
  }
 },
 "nbformat": 4,
 "nbformat_minor": 5
}
